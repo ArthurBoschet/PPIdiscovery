{
  "nbformat": 4,
  "nbformat_minor": 0,
  "metadata": {
    "colab": {
      "provenance": [],
      "toc_visible": true,
      "authorship_tag": "ABX9TyOdC9I2aOOkJQFhNLRtWEDD",
      "include_colab_link": true
    },
    "kernelspec": {
      "name": "python3",
      "display_name": "Python 3"
    },
    "language_info": {
      "name": "python"
    },
    "widgets": {
      "application/vnd.jupyter.widget-state+json": {
        "310fe35ac0694df19adeca62ebe7b48f": {
          "model_module": "@jupyter-widgets/controls",
          "model_name": "HBoxModel",
          "model_module_version": "1.5.0",
          "state": {
            "_dom_classes": [],
            "_model_module": "@jupyter-widgets/controls",
            "_model_module_version": "1.5.0",
            "_model_name": "HBoxModel",
            "_view_count": null,
            "_view_module": "@jupyter-widgets/controls",
            "_view_module_version": "1.5.0",
            "_view_name": "HBoxView",
            "box_style": "",
            "children": [
              "IPY_MODEL_999bdf941a024b199eb12900f8341616",
              "IPY_MODEL_a224754b8d4e43f8adb907eb7544f7af",
              "IPY_MODEL_39acf7a49eac4cd4b1f0d7b69fe23353"
            ],
            "layout": "IPY_MODEL_0c951e6f092c472c8df60dd36e5ddb0d"
          }
        },
        "999bdf941a024b199eb12900f8341616": {
          "model_module": "@jupyter-widgets/controls",
          "model_name": "HTMLModel",
          "model_module_version": "1.5.0",
          "state": {
            "_dom_classes": [],
            "_model_module": "@jupyter-widgets/controls",
            "_model_module_version": "1.5.0",
            "_model_name": "HTMLModel",
            "_view_count": null,
            "_view_module": "@jupyter-widgets/controls",
            "_view_module_version": "1.5.0",
            "_view_name": "HTMLView",
            "description": "",
            "description_tooltip": null,
            "layout": "IPY_MODEL_dd587f0b61514340b57d0559f5213016",
            "placeholder": "​",
            "style": "IPY_MODEL_6f268df8036c4b40a0cb1c23698f7afb",
            "value": "Computing transition probabilities:  13%"
          }
        },
        "a224754b8d4e43f8adb907eb7544f7af": {
          "model_module": "@jupyter-widgets/controls",
          "model_name": "FloatProgressModel",
          "model_module_version": "1.5.0",
          "state": {
            "_dom_classes": [],
            "_model_module": "@jupyter-widgets/controls",
            "_model_module_version": "1.5.0",
            "_model_name": "FloatProgressModel",
            "_view_count": null,
            "_view_module": "@jupyter-widgets/controls",
            "_view_module_version": "1.5.0",
            "_view_name": "ProgressView",
            "bar_style": "",
            "description": "",
            "description_tooltip": null,
            "layout": "IPY_MODEL_4a21cc34933646028f164c791731b070",
            "max": 19566,
            "min": 0,
            "orientation": "horizontal",
            "style": "IPY_MODEL_e9911874a8ce48d0999726f94a952750",
            "value": 2452
          }
        },
        "39acf7a49eac4cd4b1f0d7b69fe23353": {
          "model_module": "@jupyter-widgets/controls",
          "model_name": "HTMLModel",
          "model_module_version": "1.5.0",
          "state": {
            "_dom_classes": [],
            "_model_module": "@jupyter-widgets/controls",
            "_model_module_version": "1.5.0",
            "_model_name": "HTMLModel",
            "_view_count": null,
            "_view_module": "@jupyter-widgets/controls",
            "_view_module_version": "1.5.0",
            "_view_name": "HTMLView",
            "description": "",
            "description_tooltip": null,
            "layout": "IPY_MODEL_deec7b99a19043e3b415acbf62f273d5",
            "placeholder": "​",
            "style": "IPY_MODEL_c2462297458a4400af365948df38a9b9",
            "value": " 2452/19566 [07:05&lt;55:49,  5.11it/s]"
          }
        },
        "0c951e6f092c472c8df60dd36e5ddb0d": {
          "model_module": "@jupyter-widgets/base",
          "model_name": "LayoutModel",
          "model_module_version": "1.2.0",
          "state": {
            "_model_module": "@jupyter-widgets/base",
            "_model_module_version": "1.2.0",
            "_model_name": "LayoutModel",
            "_view_count": null,
            "_view_module": "@jupyter-widgets/base",
            "_view_module_version": "1.2.0",
            "_view_name": "LayoutView",
            "align_content": null,
            "align_items": null,
            "align_self": null,
            "border": null,
            "bottom": null,
            "display": null,
            "flex": null,
            "flex_flow": null,
            "grid_area": null,
            "grid_auto_columns": null,
            "grid_auto_flow": null,
            "grid_auto_rows": null,
            "grid_column": null,
            "grid_gap": null,
            "grid_row": null,
            "grid_template_areas": null,
            "grid_template_columns": null,
            "grid_template_rows": null,
            "height": null,
            "justify_content": null,
            "justify_items": null,
            "left": null,
            "margin": null,
            "max_height": null,
            "max_width": null,
            "min_height": null,
            "min_width": null,
            "object_fit": null,
            "object_position": null,
            "order": null,
            "overflow": null,
            "overflow_x": null,
            "overflow_y": null,
            "padding": null,
            "right": null,
            "top": null,
            "visibility": null,
            "width": null
          }
        },
        "dd587f0b61514340b57d0559f5213016": {
          "model_module": "@jupyter-widgets/base",
          "model_name": "LayoutModel",
          "model_module_version": "1.2.0",
          "state": {
            "_model_module": "@jupyter-widgets/base",
            "_model_module_version": "1.2.0",
            "_model_name": "LayoutModel",
            "_view_count": null,
            "_view_module": "@jupyter-widgets/base",
            "_view_module_version": "1.2.0",
            "_view_name": "LayoutView",
            "align_content": null,
            "align_items": null,
            "align_self": null,
            "border": null,
            "bottom": null,
            "display": null,
            "flex": null,
            "flex_flow": null,
            "grid_area": null,
            "grid_auto_columns": null,
            "grid_auto_flow": null,
            "grid_auto_rows": null,
            "grid_column": null,
            "grid_gap": null,
            "grid_row": null,
            "grid_template_areas": null,
            "grid_template_columns": null,
            "grid_template_rows": null,
            "height": null,
            "justify_content": null,
            "justify_items": null,
            "left": null,
            "margin": null,
            "max_height": null,
            "max_width": null,
            "min_height": null,
            "min_width": null,
            "object_fit": null,
            "object_position": null,
            "order": null,
            "overflow": null,
            "overflow_x": null,
            "overflow_y": null,
            "padding": null,
            "right": null,
            "top": null,
            "visibility": null,
            "width": null
          }
        },
        "6f268df8036c4b40a0cb1c23698f7afb": {
          "model_module": "@jupyter-widgets/controls",
          "model_name": "DescriptionStyleModel",
          "model_module_version": "1.5.0",
          "state": {
            "_model_module": "@jupyter-widgets/controls",
            "_model_module_version": "1.5.0",
            "_model_name": "DescriptionStyleModel",
            "_view_count": null,
            "_view_module": "@jupyter-widgets/base",
            "_view_module_version": "1.2.0",
            "_view_name": "StyleView",
            "description_width": ""
          }
        },
        "4a21cc34933646028f164c791731b070": {
          "model_module": "@jupyter-widgets/base",
          "model_name": "LayoutModel",
          "model_module_version": "1.2.0",
          "state": {
            "_model_module": "@jupyter-widgets/base",
            "_model_module_version": "1.2.0",
            "_model_name": "LayoutModel",
            "_view_count": null,
            "_view_module": "@jupyter-widgets/base",
            "_view_module_version": "1.2.0",
            "_view_name": "LayoutView",
            "align_content": null,
            "align_items": null,
            "align_self": null,
            "border": null,
            "bottom": null,
            "display": null,
            "flex": null,
            "flex_flow": null,
            "grid_area": null,
            "grid_auto_columns": null,
            "grid_auto_flow": null,
            "grid_auto_rows": null,
            "grid_column": null,
            "grid_gap": null,
            "grid_row": null,
            "grid_template_areas": null,
            "grid_template_columns": null,
            "grid_template_rows": null,
            "height": null,
            "justify_content": null,
            "justify_items": null,
            "left": null,
            "margin": null,
            "max_height": null,
            "max_width": null,
            "min_height": null,
            "min_width": null,
            "object_fit": null,
            "object_position": null,
            "order": null,
            "overflow": null,
            "overflow_x": null,
            "overflow_y": null,
            "padding": null,
            "right": null,
            "top": null,
            "visibility": null,
            "width": null
          }
        },
        "e9911874a8ce48d0999726f94a952750": {
          "model_module": "@jupyter-widgets/controls",
          "model_name": "ProgressStyleModel",
          "model_module_version": "1.5.0",
          "state": {
            "_model_module": "@jupyter-widgets/controls",
            "_model_module_version": "1.5.0",
            "_model_name": "ProgressStyleModel",
            "_view_count": null,
            "_view_module": "@jupyter-widgets/base",
            "_view_module_version": "1.2.0",
            "_view_name": "StyleView",
            "bar_color": null,
            "description_width": ""
          }
        },
        "deec7b99a19043e3b415acbf62f273d5": {
          "model_module": "@jupyter-widgets/base",
          "model_name": "LayoutModel",
          "model_module_version": "1.2.0",
          "state": {
            "_model_module": "@jupyter-widgets/base",
            "_model_module_version": "1.2.0",
            "_model_name": "LayoutModel",
            "_view_count": null,
            "_view_module": "@jupyter-widgets/base",
            "_view_module_version": "1.2.0",
            "_view_name": "LayoutView",
            "align_content": null,
            "align_items": null,
            "align_self": null,
            "border": null,
            "bottom": null,
            "display": null,
            "flex": null,
            "flex_flow": null,
            "grid_area": null,
            "grid_auto_columns": null,
            "grid_auto_flow": null,
            "grid_auto_rows": null,
            "grid_column": null,
            "grid_gap": null,
            "grid_row": null,
            "grid_template_areas": null,
            "grid_template_columns": null,
            "grid_template_rows": null,
            "height": null,
            "justify_content": null,
            "justify_items": null,
            "left": null,
            "margin": null,
            "max_height": null,
            "max_width": null,
            "min_height": null,
            "min_width": null,
            "object_fit": null,
            "object_position": null,
            "order": null,
            "overflow": null,
            "overflow_x": null,
            "overflow_y": null,
            "padding": null,
            "right": null,
            "top": null,
            "visibility": null,
            "width": null
          }
        },
        "c2462297458a4400af365948df38a9b9": {
          "model_module": "@jupyter-widgets/controls",
          "model_name": "DescriptionStyleModel",
          "model_module_version": "1.5.0",
          "state": {
            "_model_module": "@jupyter-widgets/controls",
            "_model_module_version": "1.5.0",
            "_model_name": "DescriptionStyleModel",
            "_view_count": null,
            "_view_module": "@jupyter-widgets/base",
            "_view_module_version": "1.2.0",
            "_view_name": "StyleView",
            "description_width": ""
          }
        }
      }
    }
  },
  "cells": [
    {
      "cell_type": "markdown",
      "metadata": {
        "id": "view-in-github",
        "colab_type": "text"
      },
      "source": [
        "<a href=\"https://colab.research.google.com/github/ArthurBoschet/PPIdiscovery/blob/main/string_dataset_human.ipynb\" target=\"_parent\"><img src=\"https://colab.research.google.com/assets/colab-badge.svg\" alt=\"Open In Colab\"/></a>"
      ]
    },
    {
      "cell_type": "markdown",
      "source": [
        "# Notebook setup"
      ],
      "metadata": {
        "id": "0yRfcdMqeR-F"
      }
    },
    {
      "cell_type": "markdown",
      "source": [
        "## Install"
      ],
      "metadata": {
        "id": "hi7wXT6EbVnI"
      }
    },
    {
      "cell_type": "code",
      "execution_count": 1,
      "metadata": {
        "colab": {
          "base_uri": "https://localhost:8080/"
        },
        "id": "UKfxUCfEa4ja",
        "outputId": "03921e5d-17c6-49b8-b83f-dc800f8afc6a"
      },
      "outputs": [
        {
          "output_type": "stream",
          "name": "stdout",
          "text": [
            "Looking in indexes: https://pypi.org/simple, https://us-python.pkg.dev/colab-wheels/public/simple/\n",
            "Collecting node2vec\n",
            "  Downloading node2vec-0.4.3.tar.gz (4.6 kB)\n",
            "Requirement already satisfied: networkx in /usr/local/lib/python3.7/dist-packages (from node2vec) (2.6.3)\n",
            "Requirement already satisfied: gensim in /usr/local/lib/python3.7/dist-packages (from node2vec) (3.6.0)\n",
            "Requirement already satisfied: numpy in /usr/local/lib/python3.7/dist-packages (from node2vec) (1.21.6)\n",
            "Requirement already satisfied: tqdm in /usr/local/lib/python3.7/dist-packages (from node2vec) (4.64.0)\n",
            "Requirement already satisfied: joblib>=0.13.2 in /usr/local/lib/python3.7/dist-packages (from node2vec) (1.1.0)\n",
            "Requirement already satisfied: scipy>=0.18.1 in /usr/local/lib/python3.7/dist-packages (from gensim->node2vec) (1.7.3)\n",
            "Requirement already satisfied: six>=1.5.0 in /usr/local/lib/python3.7/dist-packages (from gensim->node2vec) (1.15.0)\n",
            "Requirement already satisfied: smart-open>=1.2.1 in /usr/local/lib/python3.7/dist-packages (from gensim->node2vec) (5.2.1)\n",
            "Building wheels for collected packages: node2vec\n",
            "  Building wheel for node2vec (setup.py) ... \u001b[?25l\u001b[?25hdone\n",
            "  Created wheel for node2vec: filename=node2vec-0.4.3-py3-none-any.whl size=5980 sha256=aa0ca15053413a8ab32fc56bf81d6705bdbfe67c9ca7cf2b8e0000dc4b8c6677\n",
            "  Stored in directory: /root/.cache/pip/wheels/07/62/78/5202cb8c03cbf1593b48a8a442fca8ceec2a8c80e22318bae9\n",
            "Successfully built node2vec\n",
            "Installing collected packages: node2vec\n",
            "Successfully installed node2vec-0.4.3\n"
          ]
        }
      ],
      "source": [
        "!pip install node2vec"
      ]
    },
    {
      "cell_type": "markdown",
      "source": [
        "## Git Repository"
      ],
      "metadata": {
        "id": "cAnLr0fcVWtT"
      }
    },
    {
      "cell_type": "code",
      "source": [
        "!git clone https://github.com/ArthurBoschet/PPIdiscovery.git"
      ],
      "metadata": {
        "colab": {
          "base_uri": "https://localhost:8080/"
        },
        "id": "LrtTXosBVfc9",
        "outputId": "deac8d29-95a7-47cf-fd8c-abeaf1430b91"
      },
      "execution_count": 54,
      "outputs": [
        {
          "output_type": "stream",
          "name": "stdout",
          "text": [
            "Cloning into 'PPIdiscovery'...\n",
            "remote: Enumerating objects: 9, done.\u001b[K\n",
            "remote: Counting objects: 100% (9/9), done.\u001b[K\n",
            "remote: Compressing objects: 100% (8/8), done.\u001b[K\n",
            "remote: Total 9 (delta 1), reused 3 (delta 0), pack-reused 0\u001b[K\n",
            "Unpacking objects: 100% (9/9), done.\n"
          ]
        }
      ]
    },
    {
      "cell_type": "markdown",
      "source": [
        "### Pull New Version"
      ],
      "metadata": {
        "id": "GFbFJ-xiVv-Z"
      }
    },
    {
      "cell_type": "code",
      "source": [
        "cd PPIdiscovery"
      ],
      "metadata": {
        "colab": {
          "base_uri": "https://localhost:8080/"
        },
        "id": "n9SLEIpCV7sK",
        "outputId": "530886dd-76ef-439d-e947-e347b0716847"
      },
      "execution_count": 58,
      "outputs": [
        {
          "output_type": "stream",
          "name": "stdout",
          "text": [
            "/content/PPIdiscovery\n"
          ]
        }
      ]
    },
    {
      "cell_type": "code",
      "source": [
        "!git pull\n"
      ],
      "metadata": {
        "colab": {
          "base_uri": "https://localhost:8080/"
        },
        "id": "Y3ACa20UVzvx",
        "outputId": "26f9b91d-7b47-4e16-9d7b-5f938cc02ff6"
      },
      "execution_count": 59,
      "outputs": [
        {
          "output_type": "stream",
          "name": "stdout",
          "text": [
            "Already up to date.\n"
          ]
        }
      ]
    },
    {
      "cell_type": "code",
      "source": [
        "cd .."
      ],
      "metadata": {
        "colab": {
          "base_uri": "https://localhost:8080/"
        },
        "id": "hLpXygigWRrW",
        "outputId": "287cee87-03ea-4aa4-ebf9-ba1cb7deffdf"
      },
      "execution_count": 60,
      "outputs": [
        {
          "output_type": "stream",
          "name": "stdout",
          "text": [
            "/content\n"
          ]
        }
      ]
    },
    {
      "cell_type": "code",
      "source": [
        "ls"
      ],
      "metadata": {
        "colab": {
          "base_uri": "https://localhost:8080/"
        },
        "id": "_ric2wgdWTsV",
        "outputId": "24754211-0e0d-43f5-9a41-183508526c70"
      },
      "execution_count": 61,
      "outputs": [
        {
          "output_type": "stream",
          "name": "stdout",
          "text": [
            "\u001b[0m\u001b[01;34mdrive\u001b[0m/  \u001b[01;34mPPIdiscovery\u001b[0m/  \u001b[01;34msample_data\u001b[0m/\n"
          ]
        }
      ]
    },
    {
      "cell_type": "markdown",
      "source": [
        "## Imports"
      ],
      "metadata": {
        "id": "mgnEqhQKbZmH"
      }
    },
    {
      "cell_type": "code",
      "source": [
        "#utilities\n",
        "from tqdm import tqdm\n",
        "\n",
        "#scientific computation\n",
        "import numpy as np\n",
        "\n",
        "#dataframes\n",
        "import pandas as pd\n",
        "\n",
        "#networks\n",
        "import networkx as nx\n",
        "\n",
        "#visualization\n",
        "import matplotlib.pyplot as plt\n",
        "import seaborn as sns\n",
        "\n",
        "#access google drive\n",
        "from google.colab import drive\n",
        "drive.mount('/content/drive')\n",
        "\n",
        "#own files\n",
        "from PPIdiscovery.embeddings import embedding_func, grid_search"
      ],
      "metadata": {
        "colab": {
          "base_uri": "https://localhost:8080/"
        },
        "id": "bCOayO44bfpw",
        "outputId": "59dca382-4381-4eb9-bb16-814e8df4ad6c"
      },
      "execution_count": 64,
      "outputs": [
        {
          "output_type": "stream",
          "name": "stdout",
          "text": [
            "Drive already mounted at /content/drive; to attempt to forcibly remount, call drive.mount(\"/content/drive\", force_remount=True).\n"
          ]
        }
      ]
    },
    {
      "cell_type": "markdown",
      "source": [
        "## Directories"
      ],
      "metadata": {
        "id": "Mzf1vV9IFmq8"
      }
    },
    {
      "cell_type": "code",
      "source": [
        "species = \"human\"\n",
        "glob_dir = \"drive/MyDrive/protein_network/string/\"+species\n",
        "data = glob_dir + '/data'\n",
        "embeddings = glob_dir + '/embeddings'"
      ],
      "metadata": {
        "id": "4e_nRFYJFfrR"
      },
      "execution_count": 68,
      "outputs": []
    },
    {
      "cell_type": "code",
      "source": [
        "ls drive/MyDrive/protein_network/string/human"
      ],
      "metadata": {
        "colab": {
          "base_uri": "https://localhost:8080/"
        },
        "id": "U2zp7CAQco3K",
        "outputId": "42ded469-d659-4891-ab63-d067ed5e0ddf"
      },
      "execution_count": 4,
      "outputs": [
        {
          "output_type": "stream",
          "name": "stdout",
          "text": [
            " 9606.protein.info.v11.5.txt\n",
            " 9606.protein.links.detailed.v11.5.txt\n",
            "'human_string_dataset Full Network default edge.csv'\n",
            "'human_string_dataset Full Network default node.csv'\n"
          ]
        }
      ]
    },
    {
      "cell_type": "markdown",
      "source": [
        "# Create Networks"
      ],
      "metadata": {
        "id": "gSfAZIOCd9aj"
      }
    },
    {
      "cell_type": "markdown",
      "source": [
        "## Sequence Similarity Network"
      ],
      "metadata": {
        "id": "bdBivJ8qkCHf"
      }
    },
    {
      "cell_type": "markdown",
      "source": [
        "### Create Network"
      ],
      "metadata": {
        "id": "g45p-I80Ol0D"
      }
    },
    {
      "cell_type": "code",
      "source": [
        "SSN_df = pd.read_csv(data +\"/human_string_dataset Full Network default edge.csv\" )"
      ],
      "metadata": {
        "id": "EO5e3vxDcvd9"
      },
      "execution_count": 66,
      "outputs": []
    },
    {
      "cell_type": "code",
      "source": [
        "node_info = pd.read_csv(data +\"/human_string_dataset Full Network default node.csv\")"
      ],
      "metadata": {
        "id": "ynzB3v9vzMbc"
      },
      "execution_count": 67,
      "outputs": []
    },
    {
      "cell_type": "code",
      "source": [
        "SSN_df"
      ],
      "metadata": {
        "colab": {
          "base_uri": "https://localhost:8080/",
          "height": 468
        },
        "id": "wNDN4K3texb9",
        "outputId": "65e0f8d9-adeb-48ce-ceff-a81c1ace6c5b"
      },
      "execution_count": 7,
      "outputs": [
        {
          "output_type": "execute_result",
          "data": {
            "text/plain": [
              "          %id  alignment_len  alignment_score  interaction             name  \\\n",
              "0       62.99           4469           1708.0          NaN  zz13346,zzz2540   \n",
              "1       61.37           4615           1706.0          NaN  zzz3015,zzz7906   \n",
              "2       55.38           5318           1682.0          NaN  zzz5832,zzz9950   \n",
              "3       65.62           4296           1679.0          NaN  zz10152,zzz9729   \n",
              "4       59.77           4621           1612.0          NaN  zz13311,zzz1297   \n",
              "...       ...            ...              ...          ...              ...   \n",
              "548147  66.67             24              8.0          NaN  zz16815,zzz7555   \n",
              "548148  86.67             60              8.0          NaN  zzz8064,zzz8078   \n",
              "548149  86.67             60              8.0          NaN  zz18610,zzz8064   \n",
              "548150  47.22             36              7.0          NaN  zz12165,zz13119   \n",
              "548151  81.97             61              8.0          NaN  zz12733,zz18752   \n",
              "\n",
              "        selected  shared interaction      shared name  \n",
              "0          False                 NaN  zz13346,zzz2540  \n",
              "1          False                 NaN  zzz3015,zzz7906  \n",
              "2          False                 NaN  zzz5832,zzz9950  \n",
              "3          False                 NaN  zz10152,zzz9729  \n",
              "4          False                 NaN  zz13311,zzz1297  \n",
              "...          ...                 ...              ...  \n",
              "548147     False                 NaN  zz16815,zzz7555  \n",
              "548148     False                 NaN  zzz8064,zzz8078  \n",
              "548149     False                 NaN  zz18610,zzz8064  \n",
              "548150     False                 NaN  zz12165,zz13119  \n",
              "548151     False                 NaN  zz12733,zz18752  \n",
              "\n",
              "[548152 rows x 8 columns]"
            ],
            "text/html": [
              "\n",
              "  <div id=\"df-05aba5f9-ec96-4848-8333-fa22382ef973\">\n",
              "    <div class=\"colab-df-container\">\n",
              "      <div>\n",
              "<style scoped>\n",
              "    .dataframe tbody tr th:only-of-type {\n",
              "        vertical-align: middle;\n",
              "    }\n",
              "\n",
              "    .dataframe tbody tr th {\n",
              "        vertical-align: top;\n",
              "    }\n",
              "\n",
              "    .dataframe thead th {\n",
              "        text-align: right;\n",
              "    }\n",
              "</style>\n",
              "<table border=\"1\" class=\"dataframe\">\n",
              "  <thead>\n",
              "    <tr style=\"text-align: right;\">\n",
              "      <th></th>\n",
              "      <th>%id</th>\n",
              "      <th>alignment_len</th>\n",
              "      <th>alignment_score</th>\n",
              "      <th>interaction</th>\n",
              "      <th>name</th>\n",
              "      <th>selected</th>\n",
              "      <th>shared interaction</th>\n",
              "      <th>shared name</th>\n",
              "    </tr>\n",
              "  </thead>\n",
              "  <tbody>\n",
              "    <tr>\n",
              "      <th>0</th>\n",
              "      <td>62.99</td>\n",
              "      <td>4469</td>\n",
              "      <td>1708.0</td>\n",
              "      <td>NaN</td>\n",
              "      <td>zz13346,zzz2540</td>\n",
              "      <td>False</td>\n",
              "      <td>NaN</td>\n",
              "      <td>zz13346,zzz2540</td>\n",
              "    </tr>\n",
              "    <tr>\n",
              "      <th>1</th>\n",
              "      <td>61.37</td>\n",
              "      <td>4615</td>\n",
              "      <td>1706.0</td>\n",
              "      <td>NaN</td>\n",
              "      <td>zzz3015,zzz7906</td>\n",
              "      <td>False</td>\n",
              "      <td>NaN</td>\n",
              "      <td>zzz3015,zzz7906</td>\n",
              "    </tr>\n",
              "    <tr>\n",
              "      <th>2</th>\n",
              "      <td>55.38</td>\n",
              "      <td>5318</td>\n",
              "      <td>1682.0</td>\n",
              "      <td>NaN</td>\n",
              "      <td>zzz5832,zzz9950</td>\n",
              "      <td>False</td>\n",
              "      <td>NaN</td>\n",
              "      <td>zzz5832,zzz9950</td>\n",
              "    </tr>\n",
              "    <tr>\n",
              "      <th>3</th>\n",
              "      <td>65.62</td>\n",
              "      <td>4296</td>\n",
              "      <td>1679.0</td>\n",
              "      <td>NaN</td>\n",
              "      <td>zz10152,zzz9729</td>\n",
              "      <td>False</td>\n",
              "      <td>NaN</td>\n",
              "      <td>zz10152,zzz9729</td>\n",
              "    </tr>\n",
              "    <tr>\n",
              "      <th>4</th>\n",
              "      <td>59.77</td>\n",
              "      <td>4621</td>\n",
              "      <td>1612.0</td>\n",
              "      <td>NaN</td>\n",
              "      <td>zz13311,zzz1297</td>\n",
              "      <td>False</td>\n",
              "      <td>NaN</td>\n",
              "      <td>zz13311,zzz1297</td>\n",
              "    </tr>\n",
              "    <tr>\n",
              "      <th>...</th>\n",
              "      <td>...</td>\n",
              "      <td>...</td>\n",
              "      <td>...</td>\n",
              "      <td>...</td>\n",
              "      <td>...</td>\n",
              "      <td>...</td>\n",
              "      <td>...</td>\n",
              "      <td>...</td>\n",
              "    </tr>\n",
              "    <tr>\n",
              "      <th>548147</th>\n",
              "      <td>66.67</td>\n",
              "      <td>24</td>\n",
              "      <td>8.0</td>\n",
              "      <td>NaN</td>\n",
              "      <td>zz16815,zzz7555</td>\n",
              "      <td>False</td>\n",
              "      <td>NaN</td>\n",
              "      <td>zz16815,zzz7555</td>\n",
              "    </tr>\n",
              "    <tr>\n",
              "      <th>548148</th>\n",
              "      <td>86.67</td>\n",
              "      <td>60</td>\n",
              "      <td>8.0</td>\n",
              "      <td>NaN</td>\n",
              "      <td>zzz8064,zzz8078</td>\n",
              "      <td>False</td>\n",
              "      <td>NaN</td>\n",
              "      <td>zzz8064,zzz8078</td>\n",
              "    </tr>\n",
              "    <tr>\n",
              "      <th>548149</th>\n",
              "      <td>86.67</td>\n",
              "      <td>60</td>\n",
              "      <td>8.0</td>\n",
              "      <td>NaN</td>\n",
              "      <td>zz18610,zzz8064</td>\n",
              "      <td>False</td>\n",
              "      <td>NaN</td>\n",
              "      <td>zz18610,zzz8064</td>\n",
              "    </tr>\n",
              "    <tr>\n",
              "      <th>548150</th>\n",
              "      <td>47.22</td>\n",
              "      <td>36</td>\n",
              "      <td>7.0</td>\n",
              "      <td>NaN</td>\n",
              "      <td>zz12165,zz13119</td>\n",
              "      <td>False</td>\n",
              "      <td>NaN</td>\n",
              "      <td>zz12165,zz13119</td>\n",
              "    </tr>\n",
              "    <tr>\n",
              "      <th>548151</th>\n",
              "      <td>81.97</td>\n",
              "      <td>61</td>\n",
              "      <td>8.0</td>\n",
              "      <td>NaN</td>\n",
              "      <td>zz12733,zz18752</td>\n",
              "      <td>False</td>\n",
              "      <td>NaN</td>\n",
              "      <td>zz12733,zz18752</td>\n",
              "    </tr>\n",
              "  </tbody>\n",
              "</table>\n",
              "<p>548152 rows × 8 columns</p>\n",
              "</div>\n",
              "      <button class=\"colab-df-convert\" onclick=\"convertToInteractive('df-05aba5f9-ec96-4848-8333-fa22382ef973')\"\n",
              "              title=\"Convert this dataframe to an interactive table.\"\n",
              "              style=\"display:none;\">\n",
              "        \n",
              "  <svg xmlns=\"http://www.w3.org/2000/svg\" height=\"24px\"viewBox=\"0 0 24 24\"\n",
              "       width=\"24px\">\n",
              "    <path d=\"M0 0h24v24H0V0z\" fill=\"none\"/>\n",
              "    <path d=\"M18.56 5.44l.94 2.06.94-2.06 2.06-.94-2.06-.94-.94-2.06-.94 2.06-2.06.94zm-11 1L8.5 8.5l.94-2.06 2.06-.94-2.06-.94L8.5 2.5l-.94 2.06-2.06.94zm10 10l.94 2.06.94-2.06 2.06-.94-2.06-.94-.94-2.06-.94 2.06-2.06.94z\"/><path d=\"M17.41 7.96l-1.37-1.37c-.4-.4-.92-.59-1.43-.59-.52 0-1.04.2-1.43.59L10.3 9.45l-7.72 7.72c-.78.78-.78 2.05 0 2.83L4 21.41c.39.39.9.59 1.41.59.51 0 1.02-.2 1.41-.59l7.78-7.78 2.81-2.81c.8-.78.8-2.07 0-2.86zM5.41 20L4 18.59l7.72-7.72 1.47 1.35L5.41 20z\"/>\n",
              "  </svg>\n",
              "      </button>\n",
              "      \n",
              "  <style>\n",
              "    .colab-df-container {\n",
              "      display:flex;\n",
              "      flex-wrap:wrap;\n",
              "      gap: 12px;\n",
              "    }\n",
              "\n",
              "    .colab-df-convert {\n",
              "      background-color: #E8F0FE;\n",
              "      border: none;\n",
              "      border-radius: 50%;\n",
              "      cursor: pointer;\n",
              "      display: none;\n",
              "      fill: #1967D2;\n",
              "      height: 32px;\n",
              "      padding: 0 0 0 0;\n",
              "      width: 32px;\n",
              "    }\n",
              "\n",
              "    .colab-df-convert:hover {\n",
              "      background-color: #E2EBFA;\n",
              "      box-shadow: 0px 1px 2px rgba(60, 64, 67, 0.3), 0px 1px 3px 1px rgba(60, 64, 67, 0.15);\n",
              "      fill: #174EA6;\n",
              "    }\n",
              "\n",
              "    [theme=dark] .colab-df-convert {\n",
              "      background-color: #3B4455;\n",
              "      fill: #D2E3FC;\n",
              "    }\n",
              "\n",
              "    [theme=dark] .colab-df-convert:hover {\n",
              "      background-color: #434B5C;\n",
              "      box-shadow: 0px 1px 3px 1px rgba(0, 0, 0, 0.15);\n",
              "      filter: drop-shadow(0px 1px 2px rgba(0, 0, 0, 0.3));\n",
              "      fill: #FFFFFF;\n",
              "    }\n",
              "  </style>\n",
              "\n",
              "      <script>\n",
              "        const buttonEl =\n",
              "          document.querySelector('#df-05aba5f9-ec96-4848-8333-fa22382ef973 button.colab-df-convert');\n",
              "        buttonEl.style.display =\n",
              "          google.colab.kernel.accessAllowed ? 'block' : 'none';\n",
              "\n",
              "        async function convertToInteractive(key) {\n",
              "          const element = document.querySelector('#df-05aba5f9-ec96-4848-8333-fa22382ef973');\n",
              "          const dataTable =\n",
              "            await google.colab.kernel.invokeFunction('convertToInteractive',\n",
              "                                                     [key], {});\n",
              "          if (!dataTable) return;\n",
              "\n",
              "          const docLinkHtml = 'Like what you see? Visit the ' +\n",
              "            '<a target=\"_blank\" href=https://colab.research.google.com/notebooks/data_table.ipynb>data table notebook</a>'\n",
              "            + ' to learn more about interactive tables.';\n",
              "          element.innerHTML = '';\n",
              "          dataTable['output_type'] = 'display_data';\n",
              "          await google.colab.output.renderOutput(dataTable, element);\n",
              "          const docLink = document.createElement('div');\n",
              "          docLink.innerHTML = docLinkHtml;\n",
              "          element.appendChild(docLink);\n",
              "        }\n",
              "      </script>\n",
              "    </div>\n",
              "  </div>\n",
              "  "
            ]
          },
          "metadata": {},
          "execution_count": 7
        }
      ]
    },
    {
      "cell_type": "code",
      "source": [
        "node_info"
      ],
      "metadata": {
        "colab": {
          "base_uri": "https://localhost:8080/",
          "height": 505
        },
        "id": "pHpBj_vK0-WA",
        "outputId": "292f003d-4d5f-4037-fb22-31c46e9d19ff"
      },
      "execution_count": 8,
      "outputs": [
        {
          "output_type": "execute_result",
          "data": {
            "text/plain": [
              "                Description     name  selected  \\\n",
              "0      9606.ENSP00000354794  zz10000     False   \n",
              "1      9606.ENSP00000354800  zz10001     False   \n",
              "2      9606.ENSP00000354812  zz10002     False   \n",
              "3      9606.ENSP00000354813  zz10003     False   \n",
              "4      9606.ENSP00000354822  zz10004     False   \n",
              "...                     ...      ...       ...   \n",
              "19561  9606.ENSP00000002165  zzzzzz5     False   \n",
              "19562  9606.ENSP00000002596  zzzzzz6     False   \n",
              "19563  9606.ENSP00000002829  zzzzzz7     False   \n",
              "19564  9606.ENSP00000003084  zzzzzz8     False   \n",
              "19565  9606.ENSP00000003100  zzzzzz9     False   \n",
              "\n",
              "                                                Sequence  Sequence Length  \\\n",
              "0      MSRRKQAKPRSLKDPNCKLEDKTEDGEALDCKKRPEDGEELEDEAV...             1311   \n",
              "1      MMASERNQSSTPTFILLGFSEYPEIQVPLFLVFLFVYTVTVVGNLG...              314   \n",
              "2      MAERGRKRPCGPGEHGQRIEWRKWKQQKKEEKKKWKDLKLMKKLER...              376   \n",
              "3      MTMHTTMTTLTLTSLIPPILTTLVNPNKKNSYPHYVKSIVASTFII...              603   \n",
              "4      MEGDFSVCRNCKRHVVSANFTLHEAYCLRFLVLCPECEEPVPKETM...              301   \n",
              "...                                                  ...              ...   \n",
              "19561  MRPQELPRLAFPLLLLLLLLLPPPPCPAHSATRFDPTWESLDARQL...              467   \n",
              "19562  MAALLLGAVLLVAQPQLVPSRPAELGQQELLRKAGTLQDDVRDGVA...              307   \n",
              "19563  MLVAGLLLWASLLTGAWPSFPTQDHLPATPRVRLSFKELKATGTAH...              785   \n",
              "19564  MQRSPLEKASVVSKLFFSWTRPILRKGYRQRLELSDIYQIPSVDSA...             1480   \n",
              "19565  MAAAAGMLLLGLLQAGGSVLGQAMEKVTGGNLLSMLLIACAFTLSL...              509   \n",
              "\n",
              "      Sequence Source shared name  \n",
              "0                USER     zz10000  \n",
              "1                USER     zz10001  \n",
              "2                USER     zz10002  \n",
              "3                USER     zz10003  \n",
              "4                USER     zz10004  \n",
              "...               ...         ...  \n",
              "19561            USER     zzzzzz5  \n",
              "19562            USER     zzzzzz6  \n",
              "19563            USER     zzzzzz7  \n",
              "19564            USER     zzzzzz8  \n",
              "19565            USER     zzzzzz9  \n",
              "\n",
              "[19566 rows x 7 columns]"
            ],
            "text/html": [
              "\n",
              "  <div id=\"df-b24ed874-e396-485a-befc-f4482c108251\">\n",
              "    <div class=\"colab-df-container\">\n",
              "      <div>\n",
              "<style scoped>\n",
              "    .dataframe tbody tr th:only-of-type {\n",
              "        vertical-align: middle;\n",
              "    }\n",
              "\n",
              "    .dataframe tbody tr th {\n",
              "        vertical-align: top;\n",
              "    }\n",
              "\n",
              "    .dataframe thead th {\n",
              "        text-align: right;\n",
              "    }\n",
              "</style>\n",
              "<table border=\"1\" class=\"dataframe\">\n",
              "  <thead>\n",
              "    <tr style=\"text-align: right;\">\n",
              "      <th></th>\n",
              "      <th>Description</th>\n",
              "      <th>name</th>\n",
              "      <th>selected</th>\n",
              "      <th>Sequence</th>\n",
              "      <th>Sequence Length</th>\n",
              "      <th>Sequence Source</th>\n",
              "      <th>shared name</th>\n",
              "    </tr>\n",
              "  </thead>\n",
              "  <tbody>\n",
              "    <tr>\n",
              "      <th>0</th>\n",
              "      <td>9606.ENSP00000354794</td>\n",
              "      <td>zz10000</td>\n",
              "      <td>False</td>\n",
              "      <td>MSRRKQAKPRSLKDPNCKLEDKTEDGEALDCKKRPEDGEELEDEAV...</td>\n",
              "      <td>1311</td>\n",
              "      <td>USER</td>\n",
              "      <td>zz10000</td>\n",
              "    </tr>\n",
              "    <tr>\n",
              "      <th>1</th>\n",
              "      <td>9606.ENSP00000354800</td>\n",
              "      <td>zz10001</td>\n",
              "      <td>False</td>\n",
              "      <td>MMASERNQSSTPTFILLGFSEYPEIQVPLFLVFLFVYTVTVVGNLG...</td>\n",
              "      <td>314</td>\n",
              "      <td>USER</td>\n",
              "      <td>zz10001</td>\n",
              "    </tr>\n",
              "    <tr>\n",
              "      <th>2</th>\n",
              "      <td>9606.ENSP00000354812</td>\n",
              "      <td>zz10002</td>\n",
              "      <td>False</td>\n",
              "      <td>MAERGRKRPCGPGEHGQRIEWRKWKQQKKEEKKKWKDLKLMKKLER...</td>\n",
              "      <td>376</td>\n",
              "      <td>USER</td>\n",
              "      <td>zz10002</td>\n",
              "    </tr>\n",
              "    <tr>\n",
              "      <th>3</th>\n",
              "      <td>9606.ENSP00000354813</td>\n",
              "      <td>zz10003</td>\n",
              "      <td>False</td>\n",
              "      <td>MTMHTTMTTLTLTSLIPPILTTLVNPNKKNSYPHYVKSIVASTFII...</td>\n",
              "      <td>603</td>\n",
              "      <td>USER</td>\n",
              "      <td>zz10003</td>\n",
              "    </tr>\n",
              "    <tr>\n",
              "      <th>4</th>\n",
              "      <td>9606.ENSP00000354822</td>\n",
              "      <td>zz10004</td>\n",
              "      <td>False</td>\n",
              "      <td>MEGDFSVCRNCKRHVVSANFTLHEAYCLRFLVLCPECEEPVPKETM...</td>\n",
              "      <td>301</td>\n",
              "      <td>USER</td>\n",
              "      <td>zz10004</td>\n",
              "    </tr>\n",
              "    <tr>\n",
              "      <th>...</th>\n",
              "      <td>...</td>\n",
              "      <td>...</td>\n",
              "      <td>...</td>\n",
              "      <td>...</td>\n",
              "      <td>...</td>\n",
              "      <td>...</td>\n",
              "      <td>...</td>\n",
              "    </tr>\n",
              "    <tr>\n",
              "      <th>19561</th>\n",
              "      <td>9606.ENSP00000002165</td>\n",
              "      <td>zzzzzz5</td>\n",
              "      <td>False</td>\n",
              "      <td>MRPQELPRLAFPLLLLLLLLLPPPPCPAHSATRFDPTWESLDARQL...</td>\n",
              "      <td>467</td>\n",
              "      <td>USER</td>\n",
              "      <td>zzzzzz5</td>\n",
              "    </tr>\n",
              "    <tr>\n",
              "      <th>19562</th>\n",
              "      <td>9606.ENSP00000002596</td>\n",
              "      <td>zzzzzz6</td>\n",
              "      <td>False</td>\n",
              "      <td>MAALLLGAVLLVAQPQLVPSRPAELGQQELLRKAGTLQDDVRDGVA...</td>\n",
              "      <td>307</td>\n",
              "      <td>USER</td>\n",
              "      <td>zzzzzz6</td>\n",
              "    </tr>\n",
              "    <tr>\n",
              "      <th>19563</th>\n",
              "      <td>9606.ENSP00000002829</td>\n",
              "      <td>zzzzzz7</td>\n",
              "      <td>False</td>\n",
              "      <td>MLVAGLLLWASLLTGAWPSFPTQDHLPATPRVRLSFKELKATGTAH...</td>\n",
              "      <td>785</td>\n",
              "      <td>USER</td>\n",
              "      <td>zzzzzz7</td>\n",
              "    </tr>\n",
              "    <tr>\n",
              "      <th>19564</th>\n",
              "      <td>9606.ENSP00000003084</td>\n",
              "      <td>zzzzzz8</td>\n",
              "      <td>False</td>\n",
              "      <td>MQRSPLEKASVVSKLFFSWTRPILRKGYRQRLELSDIYQIPSVDSA...</td>\n",
              "      <td>1480</td>\n",
              "      <td>USER</td>\n",
              "      <td>zzzzzz8</td>\n",
              "    </tr>\n",
              "    <tr>\n",
              "      <th>19565</th>\n",
              "      <td>9606.ENSP00000003100</td>\n",
              "      <td>zzzzzz9</td>\n",
              "      <td>False</td>\n",
              "      <td>MAAAAGMLLLGLLQAGGSVLGQAMEKVTGGNLLSMLLIACAFTLSL...</td>\n",
              "      <td>509</td>\n",
              "      <td>USER</td>\n",
              "      <td>zzzzzz9</td>\n",
              "    </tr>\n",
              "  </tbody>\n",
              "</table>\n",
              "<p>19566 rows × 7 columns</p>\n",
              "</div>\n",
              "      <button class=\"colab-df-convert\" onclick=\"convertToInteractive('df-b24ed874-e396-485a-befc-f4482c108251')\"\n",
              "              title=\"Convert this dataframe to an interactive table.\"\n",
              "              style=\"display:none;\">\n",
              "        \n",
              "  <svg xmlns=\"http://www.w3.org/2000/svg\" height=\"24px\"viewBox=\"0 0 24 24\"\n",
              "       width=\"24px\">\n",
              "    <path d=\"M0 0h24v24H0V0z\" fill=\"none\"/>\n",
              "    <path d=\"M18.56 5.44l.94 2.06.94-2.06 2.06-.94-2.06-.94-.94-2.06-.94 2.06-2.06.94zm-11 1L8.5 8.5l.94-2.06 2.06-.94-2.06-.94L8.5 2.5l-.94 2.06-2.06.94zm10 10l.94 2.06.94-2.06 2.06-.94-2.06-.94-.94-2.06-.94 2.06-2.06.94z\"/><path d=\"M17.41 7.96l-1.37-1.37c-.4-.4-.92-.59-1.43-.59-.52 0-1.04.2-1.43.59L10.3 9.45l-7.72 7.72c-.78.78-.78 2.05 0 2.83L4 21.41c.39.39.9.59 1.41.59.51 0 1.02-.2 1.41-.59l7.78-7.78 2.81-2.81c.8-.78.8-2.07 0-2.86zM5.41 20L4 18.59l7.72-7.72 1.47 1.35L5.41 20z\"/>\n",
              "  </svg>\n",
              "      </button>\n",
              "      \n",
              "  <style>\n",
              "    .colab-df-container {\n",
              "      display:flex;\n",
              "      flex-wrap:wrap;\n",
              "      gap: 12px;\n",
              "    }\n",
              "\n",
              "    .colab-df-convert {\n",
              "      background-color: #E8F0FE;\n",
              "      border: none;\n",
              "      border-radius: 50%;\n",
              "      cursor: pointer;\n",
              "      display: none;\n",
              "      fill: #1967D2;\n",
              "      height: 32px;\n",
              "      padding: 0 0 0 0;\n",
              "      width: 32px;\n",
              "    }\n",
              "\n",
              "    .colab-df-convert:hover {\n",
              "      background-color: #E2EBFA;\n",
              "      box-shadow: 0px 1px 2px rgba(60, 64, 67, 0.3), 0px 1px 3px 1px rgba(60, 64, 67, 0.15);\n",
              "      fill: #174EA6;\n",
              "    }\n",
              "\n",
              "    [theme=dark] .colab-df-convert {\n",
              "      background-color: #3B4455;\n",
              "      fill: #D2E3FC;\n",
              "    }\n",
              "\n",
              "    [theme=dark] .colab-df-convert:hover {\n",
              "      background-color: #434B5C;\n",
              "      box-shadow: 0px 1px 3px 1px rgba(0, 0, 0, 0.15);\n",
              "      filter: drop-shadow(0px 1px 2px rgba(0, 0, 0, 0.3));\n",
              "      fill: #FFFFFF;\n",
              "    }\n",
              "  </style>\n",
              "\n",
              "      <script>\n",
              "        const buttonEl =\n",
              "          document.querySelector('#df-b24ed874-e396-485a-befc-f4482c108251 button.colab-df-convert');\n",
              "        buttonEl.style.display =\n",
              "          google.colab.kernel.accessAllowed ? 'block' : 'none';\n",
              "\n",
              "        async function convertToInteractive(key) {\n",
              "          const element = document.querySelector('#df-b24ed874-e396-485a-befc-f4482c108251');\n",
              "          const dataTable =\n",
              "            await google.colab.kernel.invokeFunction('convertToInteractive',\n",
              "                                                     [key], {});\n",
              "          if (!dataTable) return;\n",
              "\n",
              "          const docLinkHtml = 'Like what you see? Visit the ' +\n",
              "            '<a target=\"_blank\" href=https://colab.research.google.com/notebooks/data_table.ipynb>data table notebook</a>'\n",
              "            + ' to learn more about interactive tables.';\n",
              "          element.innerHTML = '';\n",
              "          dataTable['output_type'] = 'display_data';\n",
              "          await google.colab.output.renderOutput(dataTable, element);\n",
              "          const docLink = document.createElement('div');\n",
              "          docLink.innerHTML = docLinkHtml;\n",
              "          element.appendChild(docLink);\n",
              "        }\n",
              "      </script>\n",
              "    </div>\n",
              "  </div>\n",
              "  "
            ]
          },
          "metadata": {},
          "execution_count": 8
        }
      ]
    },
    {
      "cell_type": "code",
      "source": [
        "ssn_edge_list = [(edge.split(',')[0], edge.split(',')[1], {'weight':id}) for edge, id in zip(SSN_df['name'], SSN_df['%id'])]"
      ],
      "metadata": {
        "id": "LCeTwq4ce5W6"
      },
      "execution_count": 30,
      "outputs": []
    },
    {
      "cell_type": "code",
      "source": [
        "G_ssn = nx.Graph()\n",
        "G_ssn.add_edges_from(ssn_edge_list)"
      ],
      "metadata": {
        "id": "oXmWOvUafIHh"
      },
      "execution_count": 31,
      "outputs": []
    },
    {
      "cell_type": "code",
      "source": [
        "print(f\"Initial number of edges is {len(G_ssn.edges)} and number of nodes is {len(G_ssn.nodes)}\")"
      ],
      "metadata": {
        "colab": {
          "base_uri": "https://localhost:8080/"
        },
        "id": "pPHkVznAfLGr",
        "outputId": "945fd222-faa8-42da-c0bb-e23fd34909d6"
      },
      "execution_count": 32,
      "outputs": [
        {
          "output_type": "stream",
          "name": "stdout",
          "text": [
            "Initial number of edges is 548152 and number of nodes is 15677\n"
          ]
        }
      ]
    },
    {
      "cell_type": "code",
      "source": [
        "print(f\"Initial number of connected components is {len([g for g in nx.connected_components(G_ssn)])}\")"
      ],
      "metadata": {
        "colab": {
          "base_uri": "https://localhost:8080/"
        },
        "id": "uMNsq4AE_-_v",
        "outputId": "8bc6d738-dace-4648-d97c-d77ecbdf4851"
      },
      "execution_count": 33,
      "outputs": [
        {
          "output_type": "stream",
          "name": "stdout",
          "text": [
            "Initial number of connected components is 1752\n"
          ]
        }
      ]
    },
    {
      "cell_type": "code",
      "source": [
        "l = sorted([list(sub) for sub in nx.connected_components(G_ssn)], reverse=True, key=len)"
      ],
      "metadata": {
        "id": "DHDpdM3IK9tD"
      },
      "execution_count": 34,
      "outputs": []
    },
    {
      "cell_type": "code",
      "source": [
        "num_el = [len(el) for el in l]"
      ],
      "metadata": {
        "id": "5BLMEwb0tlyT"
      },
      "execution_count": 35,
      "outputs": []
    },
    {
      "cell_type": "code",
      "source": [
        "plt.hist(sorted(num_el, reverse=True)[2:],bins=40)\n",
        "plt.show()"
      ],
      "metadata": {
        "colab": {
          "base_uri": "https://localhost:8080/",
          "height": 265
        },
        "id": "nXSyThBqufqV",
        "outputId": "dd9233cc-6762-42e8-8d9c-65129e0b82c1"
      },
      "execution_count": 36,
      "outputs": [
        {
          "output_type": "display_data",
          "data": {
            "text/plain": [
              "<Figure size 432x288 with 1 Axes>"
            ],
            "image/png": "[encoded data removed]"
          },
          "metadata": {
            "needs_background": "light"
          }
        }
      ]
    },
    {
      "cell_type": "code",
      "source": [
        "# new_edges = []\n",
        "# for i in tqdm(range(len(l))):\n",
        "#   j = (i+1)%len(l)\n",
        "#   new_edges.append((l[i][np.random.randint(len(l[i]))], l[j][np.random.randint(len(l[j]))],{'weight': 0.1}))"
      ],
      "metadata": {
        "id": "sit5Ushavz0i"
      },
      "execution_count": 37,
      "outputs": []
    },
    {
      "cell_type": "code",
      "source": [
        "#len(new_edges)"
      ],
      "metadata": {
        "id": "wxPmLGOm7aSs"
      },
      "execution_count": 39,
      "outputs": []
    },
    {
      "cell_type": "code",
      "source": [
        "#G_ssn.add_edges_from(new_edges)"
      ],
      "metadata": {
        "id": "hoLxLV7VPZsc"
      },
      "execution_count": 40,
      "outputs": []
    },
    {
      "cell_type": "code",
      "source": [
        "nodes_not_in_G_ssn = [n for n in node_info.name.values if n not in G_ssn.nodes]"
      ],
      "metadata": {
        "id": "I4Z6qdMNKD1Z"
      },
      "execution_count": 41,
      "outputs": []
    },
    {
      "cell_type": "code",
      "source": [
        "len(nodes_not_in_G_ssn)"
      ],
      "metadata": {
        "colab": {
          "base_uri": "https://localhost:8080/"
        },
        "id": "MfHE7uKxKh9n",
        "outputId": "1c7fb5a5-906c-448b-87a5-42a73a65ff87"
      },
      "execution_count": 42,
      "outputs": [
        {
          "output_type": "execute_result",
          "data": {
            "text/plain": [
              "3889"
            ]
          },
          "metadata": {},
          "execution_count": 42
        }
      ]
    },
    {
      "cell_type": "code",
      "source": [
        "G_ssn.add_nodes_from(nodes_not_in_G_ssn)"
      ],
      "metadata": {
        "id": "bJw7S4q1LOjx"
      },
      "execution_count": 43,
      "outputs": []
    },
    {
      "cell_type": "code",
      "source": [
        "#nodes = list(G_ssn.nodes)\n",
        "#missing_edges = [(nodes[i], nodes[j], {'weight':0.1}) for i in tqdm(range(len(nodes)-1)) for j in range(i+1, len(nodes)) if (nodes[i], nodes[j]) not in G_ssn.edges]"
      ],
      "metadata": {
        "id": "SvXyKNNcLsqi"
      },
      "execution_count": 49,
      "outputs": []
    },
    {
      "cell_type": "code",
      "source": [
        "#connect_nodes = [(n,np.random.choice(G_ssn.nodes), {'weight':0.1}) for n in tqdm(node_info.name.values) if n not in G_ssn.nodes]"
      ],
      "metadata": {
        "id": "p6GKjDxN0ZFA"
      },
      "execution_count": 19,
      "outputs": []
    },
    {
      "cell_type": "code",
      "source": [
        "#G_ssn.add_edges_from(connect_nodes)"
      ],
      "metadata": {
        "id": "VzVHwAb-0qDa"
      },
      "execution_count": 20,
      "outputs": []
    },
    {
      "cell_type": "code",
      "source": [
        "#assert nx.is_connected(G_ssn), \"oops the SS network is not connected\""
      ],
      "metadata": {
        "id": "adcISmcWj9zt"
      },
      "execution_count": 50,
      "outputs": []
    },
    {
      "cell_type": "code",
      "source": [
        "len(G_ssn.nodes)"
      ],
      "metadata": {
        "colab": {
          "base_uri": "https://localhost:8080/"
        },
        "id": "ctelSgZXpwiw",
        "outputId": "8556e18c-6f49-4be3-db1f-e14658507dde"
      },
      "execution_count": 48,
      "outputs": [
        {
          "output_type": "execute_result",
          "data": {
            "text/plain": [
              "19566"
            ]
          },
          "metadata": {},
          "execution_count": 48
        }
      ]
    },
    {
      "cell_type": "markdown",
      "source": [
        "### Create Embeddings"
      ],
      "metadata": {
        "id": "QeU3k3QKOrEA"
      }
    },
    {
      "cell_type": "code",
      "source": [
        "parameters_ssn = {'dimensions':[512], 'walk_length':[16]}"
      ],
      "metadata": {
        "id": "rbqV3glIOwdG"
      },
      "execution_count": 71,
      "outputs": []
    },
    {
      "cell_type": "code",
      "source": [
        "embedding_ssn = lambda dimensions,walk_length: embedding_func(dimensions,walk_length, G_ssn, embeddings)"
      ],
      "metadata": {
        "id": "NopuyQdcTL7Q"
      },
      "execution_count": 70,
      "outputs": []
    },
    {
      "cell_type": "code",
      "source": [
        "grid_search(parameters_ssn, embedding_ssn)"
      ],
      "metadata": {
        "colab": {
          "base_uri": "https://localhost:8080/",
          "height": 49,
          "referenced_widgets": [
            "310fe35ac0694df19adeca62ebe7b48f",
            "999bdf941a024b199eb12900f8341616",
            "a224754b8d4e43f8adb907eb7544f7af",
            "39acf7a49eac4cd4b1f0d7b69fe23353",
            "0c951e6f092c472c8df60dd36e5ddb0d",
            "dd587f0b61514340b57d0559f5213016",
            "6f268df8036c4b40a0cb1c23698f7afb",
            "4a21cc34933646028f164c791731b070",
            "e9911874a8ce48d0999726f94a952750",
            "deec7b99a19043e3b415acbf62f273d5",
            "c2462297458a4400af365948df38a9b9"
          ]
        },
        "id": "zvc5F2y-YfVh",
        "outputId": "1a409959-fafb-4ebe-b66c-978679dfadb4"
      },
      "execution_count": null,
      "outputs": [
        {
          "output_type": "display_data",
          "data": {
            "text/plain": [
              "Computing transition probabilities:   0%|          | 0/19566 [00:00<?, ?it/s]"
            ],
            "application/vnd.jupyter.widget-view+json": {
              "version_major": 2,
              "version_minor": 0,
              "model_id": "310fe35ac0694df19adeca62ebe7b48f"
            }
          },
          "metadata": {}
        }
      ]
    },
    {
      "cell_type": "markdown",
      "source": [
        "## String Interaction Network"
      ],
      "metadata": {
        "id": "r8OMKjpEmp-O"
      }
    },
    {
      "cell_type": "code",
      "source": [
        "description_to_name = {k:v for k,v in zip(node_info.Description, node_info.name)}"
      ],
      "metadata": {
        "id": "aY46VW4B0v5s"
      },
      "execution_count": 101,
      "outputs": []
    },
    {
      "cell_type": "code",
      "source": [
        "string_edges = pd.read_csv(data +\"/9606.protein.links.detailed.v11.5.txt\", sep=' ')"
      ],
      "metadata": {
        "id": "8wuG1RXdlqBg"
      },
      "execution_count": 18,
      "outputs": []
    },
    {
      "cell_type": "code",
      "source": [
        "string_edges_95 = string_edges[string_edges['combined_score'].values >= 950]"
      ],
      "metadata": {
        "id": "9DY8y_FtnpWH"
      },
      "execution_count": 20,
      "outputs": []
    },
    {
      "cell_type": "code",
      "source": [
        "string_edges_95"
      ],
      "metadata": {
        "colab": {
          "base_uri": "https://localhost:8080/",
          "height": 488
        },
        "id": "dKVNjS42uYM_",
        "outputId": "004aada5-8882-4094-d90f-870055f65ed4"
      },
      "execution_count": 21,
      "outputs": [
        {
          "output_type": "execute_result",
          "data": {
            "text/plain": [
              "                      protein1              protein2  neighborhood  fusion  \\\n",
              "187       9606.ENSP00000000233  9606.ENSP00000440005             0       0   \n",
              "1082      9606.ENSP00000000233  9606.ENSP00000262305             0       0   \n",
              "1490      9606.ENSP00000000412  9606.ENSP00000349437             0       0   \n",
              "1750      9606.ENSP00000000412  9606.ENSP00000391826             0       0   \n",
              "1801      9606.ENSP00000000412  9606.ENSP00000438085             0       0   \n",
              "...                        ...                   ...           ...     ...   \n",
              "11938123  9606.ENSP00000485663  9606.ENSP00000472985             0       0   \n",
              "11938186  9606.ENSP00000485663  9606.ENSP00000436049             0       0   \n",
              "11938211  9606.ENSP00000485663  9606.ENSP00000248342             0       0   \n",
              "11938234  9606.ENSP00000485663  9606.ENSP00000220849             0       0   \n",
              "11938267  9606.ENSP00000485663  9606.ENSP00000341885             0       0   \n",
              "\n",
              "          cooccurence  coexpression  experimental  database  textmining  \\\n",
              "187                50            99           679       900          59   \n",
              "1082                0             0           879         0         686   \n",
              "1490                0            55             0       800         901   \n",
              "1750                0             0             0         0         986   \n",
              "1801                0             0           932         0         537   \n",
              "...               ...           ...           ...       ...         ...   \n",
              "11938123            0           504           838       600          68   \n",
              "11938186            0           928           993       900         881   \n",
              "11938211            0           699           996       900         957   \n",
              "11938234            0           907           993       900         896   \n",
              "11938267            0           525           821       600          58   \n",
              "\n",
              "          combined_score  \n",
              "187                  969  \n",
              "1082                 960  \n",
              "1490                 979  \n",
              "1750                 986  \n",
              "1801                 967  \n",
              "...                  ...  \n",
              "11938123             966  \n",
              "11938186             999  \n",
              "11938211             999  \n",
              "11938234             999  \n",
              "11938267             963  \n",
              "\n",
              "[111842 rows x 10 columns]"
            ],
            "text/html": [
              "\n",
              "  <div id=\"df-c0e0db81-ee1f-4a32-ba38-4a3afc3159c5\">\n",
              "    <div class=\"colab-df-container\">\n",
              "      <div>\n",
              "<style scoped>\n",
              "    .dataframe tbody tr th:only-of-type {\n",
              "        vertical-align: middle;\n",
              "    }\n",
              "\n",
              "    .dataframe tbody tr th {\n",
              "        vertical-align: top;\n",
              "    }\n",
              "\n",
              "    .dataframe thead th {\n",
              "        text-align: right;\n",
              "    }\n",
              "</style>\n",
              "<table border=\"1\" class=\"dataframe\">\n",
              "  <thead>\n",
              "    <tr style=\"text-align: right;\">\n",
              "      <th></th>\n",
              "      <th>protein1</th>\n",
              "      <th>protein2</th>\n",
              "      <th>neighborhood</th>\n",
              "      <th>fusion</th>\n",
              "      <th>cooccurence</th>\n",
              "      <th>coexpression</th>\n",
              "      <th>experimental</th>\n",
              "      <th>database</th>\n",
              "      <th>textmining</th>\n",
              "      <th>combined_score</th>\n",
              "    </tr>\n",
              "  </thead>\n",
              "  <tbody>\n",
              "    <tr>\n",
              "      <th>187</th>\n",
              "      <td>9606.ENSP00000000233</td>\n",
              "      <td>9606.ENSP00000440005</td>\n",
              "      <td>0</td>\n",
              "      <td>0</td>\n",
              "      <td>50</td>\n",
              "      <td>99</td>\n",
              "      <td>679</td>\n",
              "      <td>900</td>\n",
              "      <td>59</td>\n",
              "      <td>969</td>\n",
              "    </tr>\n",
              "    <tr>\n",
              "      <th>1082</th>\n",
              "      <td>9606.ENSP00000000233</td>\n",
              "      <td>9606.ENSP00000262305</td>\n",
              "      <td>0</td>\n",
              "      <td>0</td>\n",
              "      <td>0</td>\n",
              "      <td>0</td>\n",
              "      <td>879</td>\n",
              "      <td>0</td>\n",
              "      <td>686</td>\n",
              "      <td>960</td>\n",
              "    </tr>\n",
              "    <tr>\n",
              "      <th>1490</th>\n",
              "      <td>9606.ENSP00000000412</td>\n",
              "      <td>9606.ENSP00000349437</td>\n",
              "      <td>0</td>\n",
              "      <td>0</td>\n",
              "      <td>0</td>\n",
              "      <td>55</td>\n",
              "      <td>0</td>\n",
              "      <td>800</td>\n",
              "      <td>901</td>\n",
              "      <td>979</td>\n",
              "    </tr>\n",
              "    <tr>\n",
              "      <th>1750</th>\n",
              "      <td>9606.ENSP00000000412</td>\n",
              "      <td>9606.ENSP00000391826</td>\n",
              "      <td>0</td>\n",
              "      <td>0</td>\n",
              "      <td>0</td>\n",
              "      <td>0</td>\n",
              "      <td>0</td>\n",
              "      <td>0</td>\n",
              "      <td>986</td>\n",
              "      <td>986</td>\n",
              "    </tr>\n",
              "    <tr>\n",
              "      <th>1801</th>\n",
              "      <td>9606.ENSP00000000412</td>\n",
              "      <td>9606.ENSP00000438085</td>\n",
              "      <td>0</td>\n",
              "      <td>0</td>\n",
              "      <td>0</td>\n",
              "      <td>0</td>\n",
              "      <td>932</td>\n",
              "      <td>0</td>\n",
              "      <td>537</td>\n",
              "      <td>967</td>\n",
              "    </tr>\n",
              "    <tr>\n",
              "      <th>...</th>\n",
              "      <td>...</td>\n",
              "      <td>...</td>\n",
              "      <td>...</td>\n",
              "      <td>...</td>\n",
              "      <td>...</td>\n",
              "      <td>...</td>\n",
              "      <td>...</td>\n",
              "      <td>...</td>\n",
              "      <td>...</td>\n",
              "      <td>...</td>\n",
              "    </tr>\n",
              "    <tr>\n",
              "      <th>11938123</th>\n",
              "      <td>9606.ENSP00000485663</td>\n",
              "      <td>9606.ENSP00000472985</td>\n",
              "      <td>0</td>\n",
              "      <td>0</td>\n",
              "      <td>0</td>\n",
              "      <td>504</td>\n",
              "      <td>838</td>\n",
              "      <td>600</td>\n",
              "      <td>68</td>\n",
              "      <td>966</td>\n",
              "    </tr>\n",
              "    <tr>\n",
              "      <th>11938186</th>\n",
              "      <td>9606.ENSP00000485663</td>\n",
              "      <td>9606.ENSP00000436049</td>\n",
              "      <td>0</td>\n",
              "      <td>0</td>\n",
              "      <td>0</td>\n",
              "      <td>928</td>\n",
              "      <td>993</td>\n",
              "      <td>900</td>\n",
              "      <td>881</td>\n",
              "      <td>999</td>\n",
              "    </tr>\n",
              "    <tr>\n",
              "      <th>11938211</th>\n",
              "      <td>9606.ENSP00000485663</td>\n",
              "      <td>9606.ENSP00000248342</td>\n",
              "      <td>0</td>\n",
              "      <td>0</td>\n",
              "      <td>0</td>\n",
              "      <td>699</td>\n",
              "      <td>996</td>\n",
              "      <td>900</td>\n",
              "      <td>957</td>\n",
              "      <td>999</td>\n",
              "    </tr>\n",
              "    <tr>\n",
              "      <th>11938234</th>\n",
              "      <td>9606.ENSP00000485663</td>\n",
              "      <td>9606.ENSP00000220849</td>\n",
              "      <td>0</td>\n",
              "      <td>0</td>\n",
              "      <td>0</td>\n",
              "      <td>907</td>\n",
              "      <td>993</td>\n",
              "      <td>900</td>\n",
              "      <td>896</td>\n",
              "      <td>999</td>\n",
              "    </tr>\n",
              "    <tr>\n",
              "      <th>11938267</th>\n",
              "      <td>9606.ENSP00000485663</td>\n",
              "      <td>9606.ENSP00000341885</td>\n",
              "      <td>0</td>\n",
              "      <td>0</td>\n",
              "      <td>0</td>\n",
              "      <td>525</td>\n",
              "      <td>821</td>\n",
              "      <td>600</td>\n",
              "      <td>58</td>\n",
              "      <td>963</td>\n",
              "    </tr>\n",
              "  </tbody>\n",
              "</table>\n",
              "<p>111842 rows × 10 columns</p>\n",
              "</div>\n",
              "      <button class=\"colab-df-convert\" onclick=\"convertToInteractive('df-c0e0db81-ee1f-4a32-ba38-4a3afc3159c5')\"\n",
              "              title=\"Convert this dataframe to an interactive table.\"\n",
              "              style=\"display:none;\">\n",
              "        \n",
              "  <svg xmlns=\"http://www.w3.org/2000/svg\" height=\"24px\"viewBox=\"0 0 24 24\"\n",
              "       width=\"24px\">\n",
              "    <path d=\"M0 0h24v24H0V0z\" fill=\"none\"/>\n",
              "    <path d=\"M18.56 5.44l.94 2.06.94-2.06 2.06-.94-2.06-.94-.94-2.06-.94 2.06-2.06.94zm-11 1L8.5 8.5l.94-2.06 2.06-.94-2.06-.94L8.5 2.5l-.94 2.06-2.06.94zm10 10l.94 2.06.94-2.06 2.06-.94-2.06-.94-.94-2.06-.94 2.06-2.06.94z\"/><path d=\"M17.41 7.96l-1.37-1.37c-.4-.4-.92-.59-1.43-.59-.52 0-1.04.2-1.43.59L10.3 9.45l-7.72 7.72c-.78.78-.78 2.05 0 2.83L4 21.41c.39.39.9.59 1.41.59.51 0 1.02-.2 1.41-.59l7.78-7.78 2.81-2.81c.8-.78.8-2.07 0-2.86zM5.41 20L4 18.59l7.72-7.72 1.47 1.35L5.41 20z\"/>\n",
              "  </svg>\n",
              "      </button>\n",
              "      \n",
              "  <style>\n",
              "    .colab-df-container {\n",
              "      display:flex;\n",
              "      flex-wrap:wrap;\n",
              "      gap: 12px;\n",
              "    }\n",
              "\n",
              "    .colab-df-convert {\n",
              "      background-color: #E8F0FE;\n",
              "      border: none;\n",
              "      border-radius: 50%;\n",
              "      cursor: pointer;\n",
              "      display: none;\n",
              "      fill: #1967D2;\n",
              "      height: 32px;\n",
              "      padding: 0 0 0 0;\n",
              "      width: 32px;\n",
              "    }\n",
              "\n",
              "    .colab-df-convert:hover {\n",
              "      background-color: #E2EBFA;\n",
              "      box-shadow: 0px 1px 2px rgba(60, 64, 67, 0.3), 0px 1px 3px 1px rgba(60, 64, 67, 0.15);\n",
              "      fill: #174EA6;\n",
              "    }\n",
              "\n",
              "    [theme=dark] .colab-df-convert {\n",
              "      background-color: #3B4455;\n",
              "      fill: #D2E3FC;\n",
              "    }\n",
              "\n",
              "    [theme=dark] .colab-df-convert:hover {\n",
              "      background-color: #434B5C;\n",
              "      box-shadow: 0px 1px 3px 1px rgba(0, 0, 0, 0.15);\n",
              "      filter: drop-shadow(0px 1px 2px rgba(0, 0, 0, 0.3));\n",
              "      fill: #FFFFFF;\n",
              "    }\n",
              "  </style>\n",
              "\n",
              "      <script>\n",
              "        const buttonEl =\n",
              "          document.querySelector('#df-c0e0db81-ee1f-4a32-ba38-4a3afc3159c5 button.colab-df-convert');\n",
              "        buttonEl.style.display =\n",
              "          google.colab.kernel.accessAllowed ? 'block' : 'none';\n",
              "\n",
              "        async function convertToInteractive(key) {\n",
              "          const element = document.querySelector('#df-c0e0db81-ee1f-4a32-ba38-4a3afc3159c5');\n",
              "          const dataTable =\n",
              "            await google.colab.kernel.invokeFunction('convertToInteractive',\n",
              "                                                     [key], {});\n",
              "          if (!dataTable) return;\n",
              "\n",
              "          const docLinkHtml = 'Like what you see? Visit the ' +\n",
              "            '<a target=\"_blank\" href=https://colab.research.google.com/notebooks/data_table.ipynb>data table notebook</a>'\n",
              "            + ' to learn more about interactive tables.';\n",
              "          element.innerHTML = '';\n",
              "          dataTable['output_type'] = 'display_data';\n",
              "          await google.colab.output.renderOutput(dataTable, element);\n",
              "          const docLink = document.createElement('div');\n",
              "          docLink.innerHTML = docLinkHtml;\n",
              "          element.appendChild(docLink);\n",
              "        }\n",
              "      </script>\n",
              "    </div>\n",
              "  </div>\n",
              "  "
            ]
          },
          "metadata": {},
          "execution_count": 21
        }
      ]
    },
    {
      "cell_type": "code",
      "source": [
        "l = [description_to_name[p] in G_ssn.nodes for p in string_edges_95.protein1.values]\n",
        "np.sum(l)/len(l)"
      ],
      "metadata": {
        "colab": {
          "base_uri": "https://localhost:8080/"
        },
        "id": "QO78MTX01Umd",
        "outputId": "fb60eb6b-b85a-4dff-aa09-98d9a1ce198b"
      },
      "execution_count": 107,
      "outputs": [
        {
          "output_type": "execute_result",
          "data": {
            "text/plain": [
              "0.7041093685735234"
            ]
          },
          "metadata": {},
          "execution_count": 107
        }
      ]
    },
    {
      "cell_type": "code",
      "source": [
        "interactions = [(description_to_name[p1], description_to_name[p2]) for p1, p2 in zip(string_edges_95.protein1.values, string_edges_95.protein2.values)]"
      ],
      "metadata": {
        "id": "7HKurV0o1hEq"
      },
      "execution_count": 81,
      "outputs": []
    },
    {
      "cell_type": "code",
      "source": [
        "#create the interaction graph\n"
      ],
      "metadata": {
        "id": "GPP4Mmm12f9M"
      },
      "execution_count": 108,
      "outputs": []
    },
    {
      "cell_type": "code",
      "source": [
        "G_string = nx.Graph()\n",
        "G_string.add_edges_from(interactions)"
      ],
      "metadata": {
        "id": "bZVY-OYg2hUT"
      },
      "execution_count": 110,
      "outputs": []
    },
    {
      "cell_type": "code",
      "source": [
        "len(G_string.nodes)"
      ],
      "metadata": {
        "colab": {
          "base_uri": "https://localhost:8080/"
        },
        "id": "71na3V3k7srH",
        "outputId": "09422c73-09d7-426f-aef9-3ef770d7ee36"
      },
      "execution_count": 112,
      "outputs": [
        {
          "output_type": "execute_result",
          "data": {
            "text/plain": [
              "9640"
            ]
          },
          "metadata": {},
          "execution_count": 112
        }
      ]
    },
    {
      "cell_type": "code",
      "source": [],
      "metadata": {
        "id": "hr97GQ7B7zOE"
      },
      "execution_count": null,
      "outputs": []
    }
  ]
}