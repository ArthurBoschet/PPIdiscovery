{
  "nbformat": 4,
  "nbformat_minor": 0,
  "metadata": {
    "colab": {
      "provenance": [],
      "machine_shape": "hm",
      "authorship_tag": "ABX9TyNwhC22tVKivXyHNGciCf2R",
      "include_colab_link": true
    },
    "kernelspec": {
      "name": "python3",
      "display_name": "Python 3"
    },
    "language_info": {
      "name": "python"
    },
    "gpuClass": "standard",
    "widgets": {
      "application/vnd.jupyter.widget-state+json": {
        "caf2639180234c32bd8c5aa5491d3389": {
          "model_module": "@jupyter-widgets/controls",
          "model_name": "HBoxModel",
          "model_module_version": "1.5.0",
          "state": {
            "_dom_classes": [],
            "_model_module": "@jupyter-widgets/controls",
            "_model_module_version": "1.5.0",
            "_model_name": "HBoxModel",
            "_view_count": null,
            "_view_module": "@jupyter-widgets/controls",
            "_view_module_version": "1.5.0",
            "_view_name": "HBoxView",
            "box_style": "",
            "children": [
              "IPY_MODEL_5b1c70d962e14df3997a7425d88f7e92",
              "IPY_MODEL_54036af17ad7460a9612db78b05b8402",
              "IPY_MODEL_7c31959364ae4e78ad9fed7c0a6d0b90"
            ],
            "layout": "IPY_MODEL_b669ea3c50934e4c945813f3dbe59056"
          }
        },
        "5b1c70d962e14df3997a7425d88f7e92": {
          "model_module": "@jupyter-widgets/controls",
          "model_name": "HTMLModel",
          "model_module_version": "1.5.0",
          "state": {
            "_dom_classes": [],
            "_model_module": "@jupyter-widgets/controls",
            "_model_module_version": "1.5.0",
            "_model_name": "HTMLModel",
            "_view_count": null,
            "_view_module": "@jupyter-widgets/controls",
            "_view_module_version": "1.5.0",
            "_view_name": "HTMLView",
            "description": "",
            "description_tooltip": null,
            "layout": "IPY_MODEL_a1a3c5b86ebe464cb503a9bda3f7f474",
            "placeholder": "​",
            "style": "IPY_MODEL_90564759c00a45cca4170bc62ee794d4",
            "value": "Computing transition probabilities:   2%"
          }
        },
        "54036af17ad7460a9612db78b05b8402": {
          "model_module": "@jupyter-widgets/controls",
          "model_name": "FloatProgressModel",
          "model_module_version": "1.5.0",
          "state": {
            "_dom_classes": [],
            "_model_module": "@jupyter-widgets/controls",
            "_model_module_version": "1.5.0",
            "_model_name": "FloatProgressModel",
            "_view_count": null,
            "_view_module": "@jupyter-widgets/controls",
            "_view_module_version": "1.5.0",
            "_view_name": "ProgressView",
            "bar_style": "danger",
            "description": "",
            "description_tooltip": null,
            "layout": "IPY_MODEL_b3bc0d8c2fe141f5877451ca7b644435",
            "max": 19566,
            "min": 0,
            "orientation": "horizontal",
            "style": "IPY_MODEL_4009365ad86c43938693d618fc15a1c3",
            "value": 322
          }
        },
        "7c31959364ae4e78ad9fed7c0a6d0b90": {
          "model_module": "@jupyter-widgets/controls",
          "model_name": "HTMLModel",
          "model_module_version": "1.5.0",
          "state": {
            "_dom_classes": [],
            "_model_module": "@jupyter-widgets/controls",
            "_model_module_version": "1.5.0",
            "_model_name": "HTMLModel",
            "_view_count": null,
            "_view_module": "@jupyter-widgets/controls",
            "_view_module_version": "1.5.0",
            "_view_name": "HTMLView",
            "description": "",
            "description_tooltip": null,
            "layout": "IPY_MODEL_48c99d9372f9483480886afbb442aaf5",
            "placeholder": "​",
            "style": "IPY_MODEL_10d96567f0874a9f89fcbbd690d3091a",
            "value": " 322/19566 [00:07&lt;05:51, 54.72it/s]"
          }
        },
        "b669ea3c50934e4c945813f3dbe59056": {
          "model_module": "@jupyter-widgets/base",
          "model_name": "LayoutModel",
          "model_module_version": "1.2.0",
          "state": {
            "_model_module": "@jupyter-widgets/base",
            "_model_module_version": "1.2.0",
            "_model_name": "LayoutModel",
            "_view_count": null,
            "_view_module": "@jupyter-widgets/base",
            "_view_module_version": "1.2.0",
            "_view_name": "LayoutView",
            "align_content": null,
            "align_items": null,
            "align_self": null,
            "border": null,
            "bottom": null,
            "display": null,
            "flex": null,
            "flex_flow": null,
            "grid_area": null,
            "grid_auto_columns": null,
            "grid_auto_flow": null,
            "grid_auto_rows": null,
            "grid_column": null,
            "grid_gap": null,
            "grid_row": null,
            "grid_template_areas": null,
            "grid_template_columns": null,
            "grid_template_rows": null,
            "height": null,
            "justify_content": null,
            "justify_items": null,
            "left": null,
            "margin": null,
            "max_height": null,
            "max_width": null,
            "min_height": null,
            "min_width": null,
            "object_fit": null,
            "object_position": null,
            "order": null,
            "overflow": null,
            "overflow_x": null,
            "overflow_y": null,
            "padding": null,
            "right": null,
            "top": null,
            "visibility": null,
            "width": null
          }
        },
        "a1a3c5b86ebe464cb503a9bda3f7f474": {
          "model_module": "@jupyter-widgets/base",
          "model_name": "LayoutModel",
          "model_module_version": "1.2.0",
          "state": {
            "_model_module": "@jupyter-widgets/base",
            "_model_module_version": "1.2.0",
            "_model_name": "LayoutModel",
            "_view_count": null,
            "_view_module": "@jupyter-widgets/base",
            "_view_module_version": "1.2.0",
            "_view_name": "LayoutView",
            "align_content": null,
            "align_items": null,
            "align_self": null,
            "border": null,
            "bottom": null,
            "display": null,
            "flex": null,
            "flex_flow": null,
            "grid_area": null,
            "grid_auto_columns": null,
            "grid_auto_flow": null,
            "grid_auto_rows": null,
            "grid_column": null,
            "grid_gap": null,
            "grid_row": null,
            "grid_template_areas": null,
            "grid_template_columns": null,
            "grid_template_rows": null,
            "height": null,
            "justify_content": null,
            "justify_items": null,
            "left": null,
            "margin": null,
            "max_height": null,
            "max_width": null,
            "min_height": null,
            "min_width": null,
            "object_fit": null,
            "object_position": null,
            "order": null,
            "overflow": null,
            "overflow_x": null,
            "overflow_y": null,
            "padding": null,
            "right": null,
            "top": null,
            "visibility": null,
            "width": null
          }
        },
        "90564759c00a45cca4170bc62ee794d4": {
          "model_module": "@jupyter-widgets/controls",
          "model_name": "DescriptionStyleModel",
          "model_module_version": "1.5.0",
          "state": {
            "_model_module": "@jupyter-widgets/controls",
            "_model_module_version": "1.5.0",
            "_model_name": "DescriptionStyleModel",
            "_view_count": null,
            "_view_module": "@jupyter-widgets/base",
            "_view_module_version": "1.2.0",
            "_view_name": "StyleView",
            "description_width": ""
          }
        },
        "b3bc0d8c2fe141f5877451ca7b644435": {
          "model_module": "@jupyter-widgets/base",
          "model_name": "LayoutModel",
          "model_module_version": "1.2.0",
          "state": {
            "_model_module": "@jupyter-widgets/base",
            "_model_module_version": "1.2.0",
            "_model_name": "LayoutModel",
            "_view_count": null,
            "_view_module": "@jupyter-widgets/base",
            "_view_module_version": "1.2.0",
            "_view_name": "LayoutView",
            "align_content": null,
            "align_items": null,
            "align_self": null,
            "border": null,
            "bottom": null,
            "display": null,
            "flex": null,
            "flex_flow": null,
            "grid_area": null,
            "grid_auto_columns": null,
            "grid_auto_flow": null,
            "grid_auto_rows": null,
            "grid_column": null,
            "grid_gap": null,
            "grid_row": null,
            "grid_template_areas": null,
            "grid_template_columns": null,
            "grid_template_rows": null,
            "height": null,
            "justify_content": null,
            "justify_items": null,
            "left": null,
            "margin": null,
            "max_height": null,
            "max_width": null,
            "min_height": null,
            "min_width": null,
            "object_fit": null,
            "object_position": null,
            "order": null,
            "overflow": null,
            "overflow_x": null,
            "overflow_y": null,
            "padding": null,
            "right": null,
            "top": null,
            "visibility": null,
            "width": null
          }
        },
        "4009365ad86c43938693d618fc15a1c3": {
          "model_module": "@jupyter-widgets/controls",
          "model_name": "ProgressStyleModel",
          "model_module_version": "1.5.0",
          "state": {
            "_model_module": "@jupyter-widgets/controls",
            "_model_module_version": "1.5.0",
            "_model_name": "ProgressStyleModel",
            "_view_count": null,
            "_view_module": "@jupyter-widgets/base",
            "_view_module_version": "1.2.0",
            "_view_name": "StyleView",
            "bar_color": null,
            "description_width": ""
          }
        },
        "48c99d9372f9483480886afbb442aaf5": {
          "model_module": "@jupyter-widgets/base",
          "model_name": "LayoutModel",
          "model_module_version": "1.2.0",
          "state": {
            "_model_module": "@jupyter-widgets/base",
            "_model_module_version": "1.2.0",
            "_model_name": "LayoutModel",
            "_view_count": null,
            "_view_module": "@jupyter-widgets/base",
            "_view_module_version": "1.2.0",
            "_view_name": "LayoutView",
            "align_content": null,
            "align_items": null,
            "align_self": null,
            "border": null,
            "bottom": null,
            "display": null,
            "flex": null,
            "flex_flow": null,
            "grid_area": null,
            "grid_auto_columns": null,
            "grid_auto_flow": null,
            "grid_auto_rows": null,
            "grid_column": null,
            "grid_gap": null,
            "grid_row": null,
            "grid_template_areas": null,
            "grid_template_columns": null,
            "grid_template_rows": null,
            "height": null,
            "justify_content": null,
            "justify_items": null,
            "left": null,
            "margin": null,
            "max_height": null,
            "max_width": null,
            "min_height": null,
            "min_width": null,
            "object_fit": null,
            "object_position": null,
            "order": null,
            "overflow": null,
            "overflow_x": null,
            "overflow_y": null,
            "padding": null,
            "right": null,
            "top": null,
            "visibility": null,
            "width": null
          }
        },
        "10d96567f0874a9f89fcbbd690d3091a": {
          "model_module": "@jupyter-widgets/controls",
          "model_name": "DescriptionStyleModel",
          "model_module_version": "1.5.0",
          "state": {
            "_model_module": "@jupyter-widgets/controls",
            "_model_module_version": "1.5.0",
            "_model_name": "DescriptionStyleModel",
            "_view_count": null,
            "_view_module": "@jupyter-widgets/base",
            "_view_module_version": "1.2.0",
            "_view_name": "StyleView",
            "description_width": ""
          }
        },
        "3b4fd7bf6d594e8497ce70bc88bfbed0": {
          "model_module": "@jupyter-widgets/controls",
          "model_name": "HBoxModel",
          "model_module_version": "1.5.0",
          "state": {
            "_dom_classes": [],
            "_model_module": "@jupyter-widgets/controls",
            "_model_module_version": "1.5.0",
            "_model_name": "HBoxModel",
            "_view_count": null,
            "_view_module": "@jupyter-widgets/controls",
            "_view_module_version": "1.5.0",
            "_view_name": "HBoxView",
            "box_style": "",
            "children": [
              "IPY_MODEL_38ce151957254d858666c3b511f8603c",
              "IPY_MODEL_1e2033ebf4614414859a3e0eb8e3ccc2",
              "IPY_MODEL_43000b082d0f408e9110c9216cbd7cd6"
            ],
            "layout": "IPY_MODEL_13c13329dbea47f29d2159a08fb997db"
          }
        },
        "38ce151957254d858666c3b511f8603c": {
          "model_module": "@jupyter-widgets/controls",
          "model_name": "HTMLModel",
          "model_module_version": "1.5.0",
          "state": {
            "_dom_classes": [],
            "_model_module": "@jupyter-widgets/controls",
            "_model_module_version": "1.5.0",
            "_model_name": "HTMLModel",
            "_view_count": null,
            "_view_module": "@jupyter-widgets/controls",
            "_view_module_version": "1.5.0",
            "_view_name": "HTMLView",
            "description": "",
            "description_tooltip": null,
            "layout": "IPY_MODEL_73081c195c9f4cf981c4d56d981d417a",
            "placeholder": "​",
            "style": "IPY_MODEL_c0e9fe33ede8490a8abc379da7fb3ec0",
            "value": "Computing transition probabilities: 100%"
          }
        },
        "1e2033ebf4614414859a3e0eb8e3ccc2": {
          "model_module": "@jupyter-widgets/controls",
          "model_name": "FloatProgressModel",
          "model_module_version": "1.5.0",
          "state": {
            "_dom_classes": [],
            "_model_module": "@jupyter-widgets/controls",
            "_model_module_version": "1.5.0",
            "_model_name": "FloatProgressModel",
            "_view_count": null,
            "_view_module": "@jupyter-widgets/controls",
            "_view_module_version": "1.5.0",
            "_view_name": "ProgressView",
            "bar_style": "success",
            "description": "",
            "description_tooltip": null,
            "layout": "IPY_MODEL_e87cade5a36f442087d45fc0a7439cc2",
            "max": 9640,
            "min": 0,
            "orientation": "horizontal",
            "style": "IPY_MODEL_b97ed4ed7b214a58b43fe252df620278",
            "value": 9640
          }
        },
        "43000b082d0f408e9110c9216cbd7cd6": {
          "model_module": "@jupyter-widgets/controls",
          "model_name": "HTMLModel",
          "model_module_version": "1.5.0",
          "state": {
            "_dom_classes": [],
            "_model_module": "@jupyter-widgets/controls",
            "_model_module_version": "1.5.0",
            "_model_name": "HTMLModel",
            "_view_count": null,
            "_view_module": "@jupyter-widgets/controls",
            "_view_module_version": "1.5.0",
            "_view_name": "HTMLView",
            "description": "",
            "description_tooltip": null,
            "layout": "IPY_MODEL_2442baed6cb748c4b96137561feb186a",
            "placeholder": "​",
            "style": "IPY_MODEL_9c203b110dee4dbbb3e38f7395e3bfcb",
            "value": " 9640/9640 [00:13&lt;00:00, 4332.58it/s]"
          }
        },
        "13c13329dbea47f29d2159a08fb997db": {
          "model_module": "@jupyter-widgets/base",
          "model_name": "LayoutModel",
          "model_module_version": "1.2.0",
          "state": {
            "_model_module": "@jupyter-widgets/base",
            "_model_module_version": "1.2.0",
            "_model_name": "LayoutModel",
            "_view_count": null,
            "_view_module": "@jupyter-widgets/base",
            "_view_module_version": "1.2.0",
            "_view_name": "LayoutView",
            "align_content": null,
            "align_items": null,
            "align_self": null,
            "border": null,
            "bottom": null,
            "display": null,
            "flex": null,
            "flex_flow": null,
            "grid_area": null,
            "grid_auto_columns": null,
            "grid_auto_flow": null,
            "grid_auto_rows": null,
            "grid_column": null,
            "grid_gap": null,
            "grid_row": null,
            "grid_template_areas": null,
            "grid_template_columns": null,
            "grid_template_rows": null,
            "height": null,
            "justify_content": null,
            "justify_items": null,
            "left": null,
            "margin": null,
            "max_height": null,
            "max_width": null,
            "min_height": null,
            "min_width": null,
            "object_fit": null,
            "object_position": null,
            "order": null,
            "overflow": null,
            "overflow_x": null,
            "overflow_y": null,
            "padding": null,
            "right": null,
            "top": null,
            "visibility": null,
            "width": null
          }
        },
        "73081c195c9f4cf981c4d56d981d417a": {
          "model_module": "@jupyter-widgets/base",
          "model_name": "LayoutModel",
          "model_module_version": "1.2.0",
          "state": {
            "_model_module": "@jupyter-widgets/base",
            "_model_module_version": "1.2.0",
            "_model_name": "LayoutModel",
            "_view_count": null,
            "_view_module": "@jupyter-widgets/base",
            "_view_module_version": "1.2.0",
            "_view_name": "LayoutView",
            "align_content": null,
            "align_items": null,
            "align_self": null,
            "border": null,
            "bottom": null,
            "display": null,
            "flex": null,
            "flex_flow": null,
            "grid_area": null,
            "grid_auto_columns": null,
            "grid_auto_flow": null,
            "grid_auto_rows": null,
            "grid_column": null,
            "grid_gap": null,
            "grid_row": null,
            "grid_template_areas": null,
            "grid_template_columns": null,
            "grid_template_rows": null,
            "height": null,
            "justify_content": null,
            "justify_items": null,
            "left": null,
            "margin": null,
            "max_height": null,
            "max_width": null,
            "min_height": null,
            "min_width": null,
            "object_fit": null,
            "object_position": null,
            "order": null,
            "overflow": null,
            "overflow_x": null,
            "overflow_y": null,
            "padding": null,
            "right": null,
            "top": null,
            "visibility": null,
            "width": null
          }
        },
        "c0e9fe33ede8490a8abc379da7fb3ec0": {
          "model_module": "@jupyter-widgets/controls",
          "model_name": "DescriptionStyleModel",
          "model_module_version": "1.5.0",
          "state": {
            "_model_module": "@jupyter-widgets/controls",
            "_model_module_version": "1.5.0",
            "_model_name": "DescriptionStyleModel",
            "_view_count": null,
            "_view_module": "@jupyter-widgets/base",
            "_view_module_version": "1.2.0",
            "_view_name": "StyleView",
            "description_width": ""
          }
        },
        "e87cade5a36f442087d45fc0a7439cc2": {
          "model_module": "@jupyter-widgets/base",
          "model_name": "LayoutModel",
          "model_module_version": "1.2.0",
          "state": {
            "_model_module": "@jupyter-widgets/base",
            "_model_module_version": "1.2.0",
            "_model_name": "LayoutModel",
            "_view_count": null,
            "_view_module": "@jupyter-widgets/base",
            "_view_module_version": "1.2.0",
            "_view_name": "LayoutView",
            "align_content": null,
            "align_items": null,
            "align_self": null,
            "border": null,
            "bottom": null,
            "display": null,
            "flex": null,
            "flex_flow": null,
            "grid_area": null,
            "grid_auto_columns": null,
            "grid_auto_flow": null,
            "grid_auto_rows": null,
            "grid_column": null,
            "grid_gap": null,
            "grid_row": null,
            "grid_template_areas": null,
            "grid_template_columns": null,
            "grid_template_rows": null,
            "height": null,
            "justify_content": null,
            "justify_items": null,
            "left": null,
            "margin": null,
            "max_height": null,
            "max_width": null,
            "min_height": null,
            "min_width": null,
            "object_fit": null,
            "object_position": null,
            "order": null,
            "overflow": null,
            "overflow_x": null,
            "overflow_y": null,
            "padding": null,
            "right": null,
            "top": null,
            "visibility": null,
            "width": null
          }
        },
        "b97ed4ed7b214a58b43fe252df620278": {
          "model_module": "@jupyter-widgets/controls",
          "model_name": "ProgressStyleModel",
          "model_module_version": "1.5.0",
          "state": {
            "_model_module": "@jupyter-widgets/controls",
            "_model_module_version": "1.5.0",
            "_model_name": "ProgressStyleModel",
            "_view_count": null,
            "_view_module": "@jupyter-widgets/base",
            "_view_module_version": "1.2.0",
            "_view_name": "StyleView",
            "bar_color": null,
            "description_width": ""
          }
        },
        "2442baed6cb748c4b96137561feb186a": {
          "model_module": "@jupyter-widgets/base",
          "model_name": "LayoutModel",
          "model_module_version": "1.2.0",
          "state": {
            "_model_module": "@jupyter-widgets/base",
            "_model_module_version": "1.2.0",
            "_model_name": "LayoutModel",
            "_view_count": null,
            "_view_module": "@jupyter-widgets/base",
            "_view_module_version": "1.2.0",
            "_view_name": "LayoutView",
            "align_content": null,
            "align_items": null,
            "align_self": null,
            "border": null,
            "bottom": null,
            "display": null,
            "flex": null,
            "flex_flow": null,
            "grid_area": null,
            "grid_auto_columns": null,
            "grid_auto_flow": null,
            "grid_auto_rows": null,
            "grid_column": null,
            "grid_gap": null,
            "grid_row": null,
            "grid_template_areas": null,
            "grid_template_columns": null,
            "grid_template_rows": null,
            "height": null,
            "justify_content": null,
            "justify_items": null,
            "left": null,
            "margin": null,
            "max_height": null,
            "max_width": null,
            "min_height": null,
            "min_width": null,
            "object_fit": null,
            "object_position": null,
            "order": null,
            "overflow": null,
            "overflow_x": null,
            "overflow_y": null,
            "padding": null,
            "right": null,
            "top": null,
            "visibility": null,
            "width": null
          }
        },
        "9c203b110dee4dbbb3e38f7395e3bfcb": {
          "model_module": "@jupyter-widgets/controls",
          "model_name": "DescriptionStyleModel",
          "model_module_version": "1.5.0",
          "state": {
            "_model_module": "@jupyter-widgets/controls",
            "_model_module_version": "1.5.0",
            "_model_name": "DescriptionStyleModel",
            "_view_count": null,
            "_view_module": "@jupyter-widgets/base",
            "_view_module_version": "1.2.0",
            "_view_name": "StyleView",
            "description_width": ""
          }
        }
      }
    }
  },
  "cells": [
    {
      "cell_type": "markdown",
      "metadata": {
        "id": "view-in-github",
        "colab_type": "text"
      },
      "source": [
        "<a href=\"https://colab.research.google.com/github/ArthurBoschet/PPIdiscovery/blob/main/string_dataset_human.ipynb\" target=\"_parent\"><img src=\"https://colab.research.google.com/assets/colab-badge.svg\" alt=\"Open In Colab\"/></a>"
      ]
    },
    {
      "cell_type": "markdown",
      "source": [
        "# Notebook setup"
      ],
      "metadata": {
        "id": "0yRfcdMqeR-F"
      }
    },
    {
      "cell_type": "markdown",
      "source": [
        "## Install"
      ],
      "metadata": {
        "id": "hi7wXT6EbVnI"
      }
    },
    {
      "cell_type": "code",
      "execution_count": 1,
      "metadata": {
        "colab": {
          "base_uri": "https://localhost:8080/"
        },
        "id": "UKfxUCfEa4ja",
        "outputId": "31eda2e5-d2fb-4940-b6d0-af8f2937d7f4"
      },
      "outputs": [
        {
          "output_type": "stream",
          "name": "stdout",
          "text": [
            "Looking in indexes: https://pypi.org/simple, https://us-python.pkg.dev/colab-wheels/public/simple/\n",
            "Collecting node2vec\n",
            "  Downloading node2vec-0.4.3.tar.gz (4.6 kB)\n",
            "Requirement already satisfied: networkx in /usr/local/lib/python3.7/dist-packages (from node2vec) (2.6.3)\n",
            "Requirement already satisfied: gensim in /usr/local/lib/python3.7/dist-packages (from node2vec) (3.6.0)\n",
            "Requirement already satisfied: numpy in /usr/local/lib/python3.7/dist-packages (from node2vec) (1.21.6)\n",
            "Requirement already satisfied: tqdm in /usr/local/lib/python3.7/dist-packages (from node2vec) (4.64.0)\n",
            "Requirement already satisfied: joblib>=0.13.2 in /usr/local/lib/python3.7/dist-packages (from node2vec) (1.1.0)\n",
            "Requirement already satisfied: scipy>=0.18.1 in /usr/local/lib/python3.7/dist-packages (from gensim->node2vec) (1.7.3)\n",
            "Requirement already satisfied: smart-open>=1.2.1 in /usr/local/lib/python3.7/dist-packages (from gensim->node2vec) (5.2.1)\n",
            "Requirement already satisfied: six>=1.5.0 in /usr/local/lib/python3.7/dist-packages (from gensim->node2vec) (1.15.0)\n",
            "Building wheels for collected packages: node2vec\n",
            "  Building wheel for node2vec (setup.py) ... \u001b[?25l\u001b[?25hdone\n",
            "  Created wheel for node2vec: filename=node2vec-0.4.3-py3-none-any.whl size=5980 sha256=7c6e5279806f25abd7ce0645c9254e49d5ad02122b0669b7c5caf10e81922305\n",
            "  Stored in directory: /root/.cache/pip/wheels/07/62/78/5202cb8c03cbf1593b48a8a442fca8ceec2a8c80e22318bae9\n",
            "Successfully built node2vec\n",
            "Installing collected packages: node2vec\n",
            "Successfully installed node2vec-0.4.3\n"
          ]
        }
      ],
      "source": [
        "!pip install node2vec"
      ]
    },
    {
      "cell_type": "markdown",
      "source": [
        "## Git Repository"
      ],
      "metadata": {
        "id": "cAnLr0fcVWtT"
      }
    },
    {
      "cell_type": "code",
      "source": [
        "!git clone https://github.com/ArthurBoschet/PPIdiscovery.git"
      ],
      "metadata": {
        "colab": {
          "base_uri": "https://localhost:8080/"
        },
        "id": "LrtTXosBVfc9",
        "outputId": "28819f48-a0af-436f-ca35-ab1ba56d905e"
      },
      "execution_count": 2,
      "outputs": [
        {
          "output_type": "stream",
          "name": "stdout",
          "text": [
            "Cloning into 'PPIdiscovery'...\n",
            "remote: Enumerating objects: 22, done.\u001b[K\n",
            "remote: Counting objects: 100% (22/22), done.\u001b[K\n",
            "remote: Compressing objects: 100% (18/18), done.\u001b[K\n",
            "remote: Total 22 (delta 6), reused 10 (delta 2), pack-reused 0\u001b[K\n",
            "Unpacking objects: 100% (22/22), done.\n"
          ]
        }
      ]
    },
    {
      "cell_type": "markdown",
      "source": [
        "### Pull New Version"
      ],
      "metadata": {
        "id": "GFbFJ-xiVv-Z"
      }
    },
    {
      "cell_type": "code",
      "source": [
        "cd PPIdiscovery"
      ],
      "metadata": {
        "colab": {
          "base_uri": "https://localhost:8080/"
        },
        "id": "n9SLEIpCV7sK",
        "outputId": "3b6c2de0-97b5-4b73-ba57-c6dda09223cc"
      },
      "execution_count": 16,
      "outputs": [
        {
          "output_type": "stream",
          "name": "stdout",
          "text": [
            "/content/PPIdiscovery\n"
          ]
        }
      ]
    },
    {
      "cell_type": "code",
      "source": [
        "!git pull\n"
      ],
      "metadata": {
        "colab": {
          "base_uri": "https://localhost:8080/"
        },
        "id": "Y3ACa20UVzvx",
        "outputId": "915a8c60-29f6-4532-c07a-17eda2ea21d4"
      },
      "execution_count": 17,
      "outputs": [
        {
          "output_type": "stream",
          "name": "stdout",
          "text": [
            "remote: Enumerating objects: 7, done.\u001b[K\n",
            "remote: Counting objects:  14% (1/7)\u001b[K\rremote: Counting objects:  28% (2/7)\u001b[K\rremote: Counting objects:  42% (3/7)\u001b[K\rremote: Counting objects:  57% (4/7)\u001b[K\rremote: Counting objects:  71% (5/7)\u001b[K\rremote: Counting objects:  85% (6/7)\u001b[K\rremote: Counting objects: 100% (7/7)\u001b[K\rremote: Counting objects: 100% (7/7), done.\u001b[K\n",
            "remote: Compressing objects: 100% (1/1)\u001b[K\rremote: Compressing objects: 100% (1/1), done.\u001b[K\n",
            "remote: Total 4 (delta 3), reused 4 (delta 3), pack-reused 0\u001b[K\n",
            "Unpacking objects:  25% (1/4)   \rUnpacking objects:  50% (2/4)   \rUnpacking objects:  75% (3/4)   \rUnpacking objects: 100% (4/4)   \rUnpacking objects: 100% (4/4), done.\n",
            "From https://github.com/ArthurBoschet/PPIdiscovery\n",
            "   da8e181..df34e20  main       -> origin/main\n",
            "Updating da8e181..df34e20\n",
            "Fast-forward\n",
            " evaluate.py | 4 \u001b[32m++\u001b[m\u001b[31m--\u001b[m\n",
            " plotting.py | 2 \u001b[32m+\u001b[m\u001b[31m-\u001b[m\n",
            " 2 files changed, 3 insertions(+), 3 deletions(-)\n"
          ]
        }
      ]
    },
    {
      "cell_type": "code",
      "source": [
        "cd .."
      ],
      "metadata": {
        "colab": {
          "base_uri": "https://localhost:8080/"
        },
        "id": "hLpXygigWRrW",
        "outputId": "b3ecdc45-09e7-4901-87a0-f4463a9c3f07"
      },
      "execution_count": 18,
      "outputs": [
        {
          "output_type": "stream",
          "name": "stdout",
          "text": [
            "/content\n"
          ]
        }
      ]
    },
    {
      "cell_type": "code",
      "source": [
        "ls PPIdiscovery"
      ],
      "metadata": {
        "colab": {
          "base_uri": "https://localhost:8080/"
        },
        "id": "_ric2wgdWTsV",
        "outputId": "24178fac-a5ac-4cd4-b38a-07ea9f4b8d3d"
      },
      "execution_count": 19,
      "outputs": [
        {
          "output_type": "stream",
          "name": "stdout",
          "text": [
            "embeddings.py  plotting.py   README.md  utils.py\n",
            "evaluate.py    \u001b[0m\u001b[01;34m__pycache__\u001b[0m/  \u001b[01;34mSTRING\u001b[0m/\n"
          ]
        }
      ]
    },
    {
      "cell_type": "markdown",
      "source": [
        "## Imports"
      ],
      "metadata": {
        "id": "mgnEqhQKbZmH"
      }
    },
    {
      "cell_type": "code",
      "source": [
        "#utilities\n",
        "import random\n",
        "from copy import deepcopy\n",
        "from tqdm import tqdm\n",
        "import itertools\n",
        "from sklearn.model_selection import train_test_split\n",
        "\n",
        "#scientific computation\n",
        "import numpy as np\n",
        "\n",
        "#dataframes\n",
        "import pandas as pd\n",
        "\n",
        "#networks\n",
        "import networkx as nx\n",
        "\n",
        "#visualization\n",
        "import matplotlib.pyplot as plt\n",
        "import seaborn as sns\n",
        "\n",
        "#access google drive\n",
        "from google.colab import drive\n",
        "drive.mount('/content/drive')\n",
        "\n",
        "#own files\n",
        "import importlib\n",
        "import PPIdiscovery.embeddings as embed\n",
        "importlib.reload(embed)\n",
        "import PPIdiscovery.utils as utils\n",
        "importlib.reload(utils)\n",
        "import PPIdiscovery.evaluate as evaluate\n",
        "importlib.reload(evaluate)\n",
        "import PPIdiscovery.plotting as plotting\n",
        "importlib.reload(plotting)"
      ],
      "metadata": {
        "colab": {
          "base_uri": "https://localhost:8080/"
        },
        "id": "bCOayO44bfpw",
        "outputId": "c41a7a25-d382-4c82-abbe-056de35fc586"
      },
      "execution_count": 71,
      "outputs": [
        {
          "output_type": "stream",
          "name": "stdout",
          "text": [
            "Drive already mounted at /content/drive; to attempt to forcibly remount, call drive.mount(\"/content/drive\", force_remount=True).\n"
          ]
        },
        {
          "output_type": "execute_result",
          "data": {
            "text/plain": [
              "<module 'PPIdiscovery.plotting' from '/content/PPIdiscovery/plotting.py'>"
            ]
          },
          "metadata": {},
          "execution_count": 71
        }
      ]
    },
    {
      "cell_type": "markdown",
      "source": [
        "## Directories"
      ],
      "metadata": {
        "id": "Mzf1vV9IFmq8"
      }
    },
    {
      "cell_type": "code",
      "source": [
        "species = \"human\"\n",
        "glob_dir = \"drive/MyDrive/protein_network/string/\"+species\n",
        "data = glob_dir + '/data'\n",
        "embeddings = glob_dir + '/embeddings'"
      ],
      "metadata": {
        "id": "4e_nRFYJFfrR"
      },
      "execution_count": 21,
      "outputs": []
    },
    {
      "cell_type": "code",
      "source": [
        "ls drive/MyDrive/protein_network/string/human"
      ],
      "metadata": {
        "colab": {
          "base_uri": "https://localhost:8080/"
        },
        "id": "U2zp7CAQco3K",
        "outputId": "ec8b6ff3-713c-4e9e-8bd5-60b8d51e3087"
      },
      "execution_count": 22,
      "outputs": [
        {
          "output_type": "stream",
          "name": "stdout",
          "text": [
            "\u001b[0m\u001b[01;34mdata\u001b[0m/  \u001b[01;34membeddings\u001b[0m/\n"
          ]
        }
      ]
    },
    {
      "cell_type": "markdown",
      "source": [
        "# Create Networks"
      ],
      "metadata": {
        "id": "gSfAZIOCd9aj"
      }
    },
    {
      "cell_type": "markdown",
      "source": [
        "## Sequence Similarity Network"
      ],
      "metadata": {
        "id": "bdBivJ8qkCHf"
      }
    },
    {
      "cell_type": "markdown",
      "source": [
        "### Create Network"
      ],
      "metadata": {
        "id": "g45p-I80Ol0D"
      }
    },
    {
      "cell_type": "code",
      "source": [
        "SSN_df = pd.read_csv(data +\"/human_string_dataset Full Network default edge.csv\" )"
      ],
      "metadata": {
        "id": "EO5e3vxDcvd9"
      },
      "execution_count": 23,
      "outputs": []
    },
    {
      "cell_type": "code",
      "source": [
        "node_info = pd.read_csv(data +\"/human_string_dataset Full Network default node.csv\")"
      ],
      "metadata": {
        "id": "ynzB3v9vzMbc"
      },
      "execution_count": 24,
      "outputs": []
    },
    {
      "cell_type": "code",
      "source": [
        "SSN_df"
      ],
      "metadata": {
        "colab": {
          "base_uri": "https://localhost:8080/",
          "height": 424
        },
        "id": "wNDN4K3texb9",
        "outputId": "82adaa56-0baa-442f-df23-fb5f48199642"
      },
      "execution_count": 25,
      "outputs": [
        {
          "output_type": "execute_result",
          "data": {
            "text/plain": [
              "          %id  alignment_len  alignment_score  interaction             name  \\\n",
              "0       62.99           4469           1708.0          NaN  zz13346,zzz2540   \n",
              "1       61.37           4615           1706.0          NaN  zzz3015,zzz7906   \n",
              "2       55.38           5318           1682.0          NaN  zzz5832,zzz9950   \n",
              "3       65.62           4296           1679.0          NaN  zz10152,zzz9729   \n",
              "4       59.77           4621           1612.0          NaN  zz13311,zzz1297   \n",
              "...       ...            ...              ...          ...              ...   \n",
              "548147  66.67             24              8.0          NaN  zz16815,zzz7555   \n",
              "548148  86.67             60              8.0          NaN  zzz8064,zzz8078   \n",
              "548149  86.67             60              8.0          NaN  zz18610,zzz8064   \n",
              "548150  47.22             36              7.0          NaN  zz12165,zz13119   \n",
              "548151  81.97             61              8.0          NaN  zz12733,zz18752   \n",
              "\n",
              "        selected  shared interaction      shared name  \n",
              "0          False                 NaN  zz13346,zzz2540  \n",
              "1          False                 NaN  zzz3015,zzz7906  \n",
              "2          False                 NaN  zzz5832,zzz9950  \n",
              "3          False                 NaN  zz10152,zzz9729  \n",
              "4          False                 NaN  zz13311,zzz1297  \n",
              "...          ...                 ...              ...  \n",
              "548147     False                 NaN  zz16815,zzz7555  \n",
              "548148     False                 NaN  zzz8064,zzz8078  \n",
              "548149     False                 NaN  zz18610,zzz8064  \n",
              "548150     False                 NaN  zz12165,zz13119  \n",
              "548151     False                 NaN  zz12733,zz18752  \n",
              "\n",
              "[548152 rows x 8 columns]"
            ],
            "text/html": [
              "\n",
              "  <div id=\"df-d5872ce9-e032-4d11-96b0-ef32d8f6b0c6\">\n",
              "    <div class=\"colab-df-container\">\n",
              "      <div>\n",
              "<style scoped>\n",
              "    .dataframe tbody tr th:only-of-type {\n",
              "        vertical-align: middle;\n",
              "    }\n",
              "\n",
              "    .dataframe tbody tr th {\n",
              "        vertical-align: top;\n",
              "    }\n",
              "\n",
              "    .dataframe thead th {\n",
              "        text-align: right;\n",
              "    }\n",
              "</style>\n",
              "<table border=\"1\" class=\"dataframe\">\n",
              "  <thead>\n",
              "    <tr style=\"text-align: right;\">\n",
              "      <th></th>\n",
              "      <th>%id</th>\n",
              "      <th>alignment_len</th>\n",
              "      <th>alignment_score</th>\n",
              "      <th>interaction</th>\n",
              "      <th>name</th>\n",
              "      <th>selected</th>\n",
              "      <th>shared interaction</th>\n",
              "      <th>shared name</th>\n",
              "    </tr>\n",
              "  </thead>\n",
              "  <tbody>\n",
              "    <tr>\n",
              "      <th>0</th>\n",
              "      <td>62.99</td>\n",
              "      <td>4469</td>\n",
              "      <td>1708.0</td>\n",
              "      <td>NaN</td>\n",
              "      <td>zz13346,zzz2540</td>\n",
              "      <td>False</td>\n",
              "      <td>NaN</td>\n",
              "      <td>zz13346,zzz2540</td>\n",
              "    </tr>\n",
              "    <tr>\n",
              "      <th>1</th>\n",
              "      <td>61.37</td>\n",
              "      <td>4615</td>\n",
              "      <td>1706.0</td>\n",
              "      <td>NaN</td>\n",
              "      <td>zzz3015,zzz7906</td>\n",
              "      <td>False</td>\n",
              "      <td>NaN</td>\n",
              "      <td>zzz3015,zzz7906</td>\n",
              "    </tr>\n",
              "    <tr>\n",
              "      <th>2</th>\n",
              "      <td>55.38</td>\n",
              "      <td>5318</td>\n",
              "      <td>1682.0</td>\n",
              "      <td>NaN</td>\n",
              "      <td>zzz5832,zzz9950</td>\n",
              "      <td>False</td>\n",
              "      <td>NaN</td>\n",
              "      <td>zzz5832,zzz9950</td>\n",
              "    </tr>\n",
              "    <tr>\n",
              "      <th>3</th>\n",
              "      <td>65.62</td>\n",
              "      <td>4296</td>\n",
              "      <td>1679.0</td>\n",
              "      <td>NaN</td>\n",
              "      <td>zz10152,zzz9729</td>\n",
              "      <td>False</td>\n",
              "      <td>NaN</td>\n",
              "      <td>zz10152,zzz9729</td>\n",
              "    </tr>\n",
              "    <tr>\n",
              "      <th>4</th>\n",
              "      <td>59.77</td>\n",
              "      <td>4621</td>\n",
              "      <td>1612.0</td>\n",
              "      <td>NaN</td>\n",
              "      <td>zz13311,zzz1297</td>\n",
              "      <td>False</td>\n",
              "      <td>NaN</td>\n",
              "      <td>zz13311,zzz1297</td>\n",
              "    </tr>\n",
              "    <tr>\n",
              "      <th>...</th>\n",
              "      <td>...</td>\n",
              "      <td>...</td>\n",
              "      <td>...</td>\n",
              "      <td>...</td>\n",
              "      <td>...</td>\n",
              "      <td>...</td>\n",
              "      <td>...</td>\n",
              "      <td>...</td>\n",
              "    </tr>\n",
              "    <tr>\n",
              "      <th>548147</th>\n",
              "      <td>66.67</td>\n",
              "      <td>24</td>\n",
              "      <td>8.0</td>\n",
              "      <td>NaN</td>\n",
              "      <td>zz16815,zzz7555</td>\n",
              "      <td>False</td>\n",
              "      <td>NaN</td>\n",
              "      <td>zz16815,zzz7555</td>\n",
              "    </tr>\n",
              "    <tr>\n",
              "      <th>548148</th>\n",
              "      <td>86.67</td>\n",
              "      <td>60</td>\n",
              "      <td>8.0</td>\n",
              "      <td>NaN</td>\n",
              "      <td>zzz8064,zzz8078</td>\n",
              "      <td>False</td>\n",
              "      <td>NaN</td>\n",
              "      <td>zzz8064,zzz8078</td>\n",
              "    </tr>\n",
              "    <tr>\n",
              "      <th>548149</th>\n",
              "      <td>86.67</td>\n",
              "      <td>60</td>\n",
              "      <td>8.0</td>\n",
              "      <td>NaN</td>\n",
              "      <td>zz18610,zzz8064</td>\n",
              "      <td>False</td>\n",
              "      <td>NaN</td>\n",
              "      <td>zz18610,zzz8064</td>\n",
              "    </tr>\n",
              "    <tr>\n",
              "      <th>548150</th>\n",
              "      <td>47.22</td>\n",
              "      <td>36</td>\n",
              "      <td>7.0</td>\n",
              "      <td>NaN</td>\n",
              "      <td>zz12165,zz13119</td>\n",
              "      <td>False</td>\n",
              "      <td>NaN</td>\n",
              "      <td>zz12165,zz13119</td>\n",
              "    </tr>\n",
              "    <tr>\n",
              "      <th>548151</th>\n",
              "      <td>81.97</td>\n",
              "      <td>61</td>\n",
              "      <td>8.0</td>\n",
              "      <td>NaN</td>\n",
              "      <td>zz12733,zz18752</td>\n",
              "      <td>False</td>\n",
              "      <td>NaN</td>\n",
              "      <td>zz12733,zz18752</td>\n",
              "    </tr>\n",
              "  </tbody>\n",
              "</table>\n",
              "<p>548152 rows × 8 columns</p>\n",
              "</div>\n",
              "      <button class=\"colab-df-convert\" onclick=\"convertToInteractive('df-d5872ce9-e032-4d11-96b0-ef32d8f6b0c6')\"\n",
              "              title=\"Convert this dataframe to an interactive table.\"\n",
              "              style=\"display:none;\">\n",
              "        \n",
              "  <svg xmlns=\"http://www.w3.org/2000/svg\" height=\"24px\"viewBox=\"0 0 24 24\"\n",
              "       width=\"24px\">\n",
              "    <path d=\"M0 0h24v24H0V0z\" fill=\"none\"/>\n",
              "    <path d=\"M18.56 5.44l.94 2.06.94-2.06 2.06-.94-2.06-.94-.94-2.06-.94 2.06-2.06.94zm-11 1L8.5 8.5l.94-2.06 2.06-.94-2.06-.94L8.5 2.5l-.94 2.06-2.06.94zm10 10l.94 2.06.94-2.06 2.06-.94-2.06-.94-.94-2.06-.94 2.06-2.06.94z\"/><path d=\"M17.41 7.96l-1.37-1.37c-.4-.4-.92-.59-1.43-.59-.52 0-1.04.2-1.43.59L10.3 9.45l-7.72 7.72c-.78.78-.78 2.05 0 2.83L4 21.41c.39.39.9.59 1.41.59.51 0 1.02-.2 1.41-.59l7.78-7.78 2.81-2.81c.8-.78.8-2.07 0-2.86zM5.41 20L4 18.59l7.72-7.72 1.47 1.35L5.41 20z\"/>\n",
              "  </svg>\n",
              "      </button>\n",
              "      \n",
              "  <style>\n",
              "    .colab-df-container {\n",
              "      display:flex;\n",
              "      flex-wrap:wrap;\n",
              "      gap: 12px;\n",
              "    }\n",
              "\n",
              "    .colab-df-convert {\n",
              "      background-color: #E8F0FE;\n",
              "      border: none;\n",
              "      border-radius: 50%;\n",
              "      cursor: pointer;\n",
              "      display: none;\n",
              "      fill: #1967D2;\n",
              "      height: 32px;\n",
              "      padding: 0 0 0 0;\n",
              "      width: 32px;\n",
              "    }\n",
              "\n",
              "    .colab-df-convert:hover {\n",
              "      background-color: #E2EBFA;\n",
              "      box-shadow: 0px 1px 2px rgba(60, 64, 67, 0.3), 0px 1px 3px 1px rgba(60, 64, 67, 0.15);\n",
              "      fill: #174EA6;\n",
              "    }\n",
              "\n",
              "    [theme=dark] .colab-df-convert {\n",
              "      background-color: #3B4455;\n",
              "      fill: #D2E3FC;\n",
              "    }\n",
              "\n",
              "    [theme=dark] .colab-df-convert:hover {\n",
              "      background-color: #434B5C;\n",
              "      box-shadow: 0px 1px 3px 1px rgba(0, 0, 0, 0.15);\n",
              "      filter: drop-shadow(0px 1px 2px rgba(0, 0, 0, 0.3));\n",
              "      fill: #FFFFFF;\n",
              "    }\n",
              "  </style>\n",
              "\n",
              "      <script>\n",
              "        const buttonEl =\n",
              "          document.querySelector('#df-d5872ce9-e032-4d11-96b0-ef32d8f6b0c6 button.colab-df-convert');\n",
              "        buttonEl.style.display =\n",
              "          google.colab.kernel.accessAllowed ? 'block' : 'none';\n",
              "\n",
              "        async function convertToInteractive(key) {\n",
              "          const element = document.querySelector('#df-d5872ce9-e032-4d11-96b0-ef32d8f6b0c6');\n",
              "          const dataTable =\n",
              "            await google.colab.kernel.invokeFunction('convertToInteractive',\n",
              "                                                     [key], {});\n",
              "          if (!dataTable) return;\n",
              "\n",
              "          const docLinkHtml = 'Like what you see? Visit the ' +\n",
              "            '<a target=\"_blank\" href=https://colab.research.google.com/notebooks/data_table.ipynb>data table notebook</a>'\n",
              "            + ' to learn more about interactive tables.';\n",
              "          element.innerHTML = '';\n",
              "          dataTable['output_type'] = 'display_data';\n",
              "          await google.colab.output.renderOutput(dataTable, element);\n",
              "          const docLink = document.createElement('div');\n",
              "          docLink.innerHTML = docLinkHtml;\n",
              "          element.appendChild(docLink);\n",
              "        }\n",
              "      </script>\n",
              "    </div>\n",
              "  </div>\n",
              "  "
            ]
          },
          "metadata": {},
          "execution_count": 25
        }
      ]
    },
    {
      "cell_type": "code",
      "source": [
        "node_info"
      ],
      "metadata": {
        "colab": {
          "base_uri": "https://localhost:8080/",
          "height": 424
        },
        "id": "pHpBj_vK0-WA",
        "outputId": "31b5eaa0-33f7-44ae-ba3a-7cb5bd45a080"
      },
      "execution_count": 26,
      "outputs": [
        {
          "output_type": "execute_result",
          "data": {
            "text/plain": [
              "                Description     name  selected  \\\n",
              "0      9606.ENSP00000354794  zz10000     False   \n",
              "1      9606.ENSP00000354800  zz10001     False   \n",
              "2      9606.ENSP00000354812  zz10002     False   \n",
              "3      9606.ENSP00000354813  zz10003     False   \n",
              "4      9606.ENSP00000354822  zz10004     False   \n",
              "...                     ...      ...       ...   \n",
              "19561  9606.ENSP00000002165  zzzzzz5     False   \n",
              "19562  9606.ENSP00000002596  zzzzzz6     False   \n",
              "19563  9606.ENSP00000002829  zzzzzz7     False   \n",
              "19564  9606.ENSP00000003084  zzzzzz8     False   \n",
              "19565  9606.ENSP00000003100  zzzzzz9     False   \n",
              "\n",
              "                                                Sequence  Sequence Length  \\\n",
              "0      MSRRKQAKPRSLKDPNCKLEDKTEDGEALDCKKRPEDGEELEDEAV...             1311   \n",
              "1      MMASERNQSSTPTFILLGFSEYPEIQVPLFLVFLFVYTVTVVGNLG...              314   \n",
              "2      MAERGRKRPCGPGEHGQRIEWRKWKQQKKEEKKKWKDLKLMKKLER...              376   \n",
              "3      MTMHTTMTTLTLTSLIPPILTTLVNPNKKNSYPHYVKSIVASTFII...              603   \n",
              "4      MEGDFSVCRNCKRHVVSANFTLHEAYCLRFLVLCPECEEPVPKETM...              301   \n",
              "...                                                  ...              ...   \n",
              "19561  MRPQELPRLAFPLLLLLLLLLPPPPCPAHSATRFDPTWESLDARQL...              467   \n",
              "19562  MAALLLGAVLLVAQPQLVPSRPAELGQQELLRKAGTLQDDVRDGVA...              307   \n",
              "19563  MLVAGLLLWASLLTGAWPSFPTQDHLPATPRVRLSFKELKATGTAH...              785   \n",
              "19564  MQRSPLEKASVVSKLFFSWTRPILRKGYRQRLELSDIYQIPSVDSA...             1480   \n",
              "19565  MAAAAGMLLLGLLQAGGSVLGQAMEKVTGGNLLSMLLIACAFTLSL...              509   \n",
              "\n",
              "      Sequence Source shared name  \n",
              "0                USER     zz10000  \n",
              "1                USER     zz10001  \n",
              "2                USER     zz10002  \n",
              "3                USER     zz10003  \n",
              "4                USER     zz10004  \n",
              "...               ...         ...  \n",
              "19561            USER     zzzzzz5  \n",
              "19562            USER     zzzzzz6  \n",
              "19563            USER     zzzzzz7  \n",
              "19564            USER     zzzzzz8  \n",
              "19565            USER     zzzzzz9  \n",
              "\n",
              "[19566 rows x 7 columns]"
            ],
            "text/html": [
              "\n",
              "  <div id=\"df-89a3d4c5-a63c-4997-a86b-604e22966756\">\n",
              "    <div class=\"colab-df-container\">\n",
              "      <div>\n",
              "<style scoped>\n",
              "    .dataframe tbody tr th:only-of-type {\n",
              "        vertical-align: middle;\n",
              "    }\n",
              "\n",
              "    .dataframe tbody tr th {\n",
              "        vertical-align: top;\n",
              "    }\n",
              "\n",
              "    .dataframe thead th {\n",
              "        text-align: right;\n",
              "    }\n",
              "</style>\n",
              "<table border=\"1\" class=\"dataframe\">\n",
              "  <thead>\n",
              "    <tr style=\"text-align: right;\">\n",
              "      <th></th>\n",
              "      <th>Description</th>\n",
              "      <th>name</th>\n",
              "      <th>selected</th>\n",
              "      <th>Sequence</th>\n",
              "      <th>Sequence Length</th>\n",
              "      <th>Sequence Source</th>\n",
              "      <th>shared name</th>\n",
              "    </tr>\n",
              "  </thead>\n",
              "  <tbody>\n",
              "    <tr>\n",
              "      <th>0</th>\n",
              "      <td>9606.ENSP00000354794</td>\n",
              "      <td>zz10000</td>\n",
              "      <td>False</td>\n",
              "      <td>MSRRKQAKPRSLKDPNCKLEDKTEDGEALDCKKRPEDGEELEDEAV...</td>\n",
              "      <td>1311</td>\n",
              "      <td>USER</td>\n",
              "      <td>zz10000</td>\n",
              "    </tr>\n",
              "    <tr>\n",
              "      <th>1</th>\n",
              "      <td>9606.ENSP00000354800</td>\n",
              "      <td>zz10001</td>\n",
              "      <td>False</td>\n",
              "      <td>MMASERNQSSTPTFILLGFSEYPEIQVPLFLVFLFVYTVTVVGNLG...</td>\n",
              "      <td>314</td>\n",
              "      <td>USER</td>\n",
              "      <td>zz10001</td>\n",
              "    </tr>\n",
              "    <tr>\n",
              "      <th>2</th>\n",
              "      <td>9606.ENSP00000354812</td>\n",
              "      <td>zz10002</td>\n",
              "      <td>False</td>\n",
              "      <td>MAERGRKRPCGPGEHGQRIEWRKWKQQKKEEKKKWKDLKLMKKLER...</td>\n",
              "      <td>376</td>\n",
              "      <td>USER</td>\n",
              "      <td>zz10002</td>\n",
              "    </tr>\n",
              "    <tr>\n",
              "      <th>3</th>\n",
              "      <td>9606.ENSP00000354813</td>\n",
              "      <td>zz10003</td>\n",
              "      <td>False</td>\n",
              "      <td>MTMHTTMTTLTLTSLIPPILTTLVNPNKKNSYPHYVKSIVASTFII...</td>\n",
              "      <td>603</td>\n",
              "      <td>USER</td>\n",
              "      <td>zz10003</td>\n",
              "    </tr>\n",
              "    <tr>\n",
              "      <th>4</th>\n",
              "      <td>9606.ENSP00000354822</td>\n",
              "      <td>zz10004</td>\n",
              "      <td>False</td>\n",
              "      <td>MEGDFSVCRNCKRHVVSANFTLHEAYCLRFLVLCPECEEPVPKETM...</td>\n",
              "      <td>301</td>\n",
              "      <td>USER</td>\n",
              "      <td>zz10004</td>\n",
              "    </tr>\n",
              "    <tr>\n",
              "      <th>...</th>\n",
              "      <td>...</td>\n",
              "      <td>...</td>\n",
              "      <td>...</td>\n",
              "      <td>...</td>\n",
              "      <td>...</td>\n",
              "      <td>...</td>\n",
              "      <td>...</td>\n",
              "    </tr>\n",
              "    <tr>\n",
              "      <th>19561</th>\n",
              "      <td>9606.ENSP00000002165</td>\n",
              "      <td>zzzzzz5</td>\n",
              "      <td>False</td>\n",
              "      <td>MRPQELPRLAFPLLLLLLLLLPPPPCPAHSATRFDPTWESLDARQL...</td>\n",
              "      <td>467</td>\n",
              "      <td>USER</td>\n",
              "      <td>zzzzzz5</td>\n",
              "    </tr>\n",
              "    <tr>\n",
              "      <th>19562</th>\n",
              "      <td>9606.ENSP00000002596</td>\n",
              "      <td>zzzzzz6</td>\n",
              "      <td>False</td>\n",
              "      <td>MAALLLGAVLLVAQPQLVPSRPAELGQQELLRKAGTLQDDVRDGVA...</td>\n",
              "      <td>307</td>\n",
              "      <td>USER</td>\n",
              "      <td>zzzzzz6</td>\n",
              "    </tr>\n",
              "    <tr>\n",
              "      <th>19563</th>\n",
              "      <td>9606.ENSP00000002829</td>\n",
              "      <td>zzzzzz7</td>\n",
              "      <td>False</td>\n",
              "      <td>MLVAGLLLWASLLTGAWPSFPTQDHLPATPRVRLSFKELKATGTAH...</td>\n",
              "      <td>785</td>\n",
              "      <td>USER</td>\n",
              "      <td>zzzzzz7</td>\n",
              "    </tr>\n",
              "    <tr>\n",
              "      <th>19564</th>\n",
              "      <td>9606.ENSP00000003084</td>\n",
              "      <td>zzzzzz8</td>\n",
              "      <td>False</td>\n",
              "      <td>MQRSPLEKASVVSKLFFSWTRPILRKGYRQRLELSDIYQIPSVDSA...</td>\n",
              "      <td>1480</td>\n",
              "      <td>USER</td>\n",
              "      <td>zzzzzz8</td>\n",
              "    </tr>\n",
              "    <tr>\n",
              "      <th>19565</th>\n",
              "      <td>9606.ENSP00000003100</td>\n",
              "      <td>zzzzzz9</td>\n",
              "      <td>False</td>\n",
              "      <td>MAAAAGMLLLGLLQAGGSVLGQAMEKVTGGNLLSMLLIACAFTLSL...</td>\n",
              "      <td>509</td>\n",
              "      <td>USER</td>\n",
              "      <td>zzzzzz9</td>\n",
              "    </tr>\n",
              "  </tbody>\n",
              "</table>\n",
              "<p>19566 rows × 7 columns</p>\n",
              "</div>\n",
              "      <button class=\"colab-df-convert\" onclick=\"convertToInteractive('df-89a3d4c5-a63c-4997-a86b-604e22966756')\"\n",
              "              title=\"Convert this dataframe to an interactive table.\"\n",
              "              style=\"display:none;\">\n",
              "        \n",
              "  <svg xmlns=\"http://www.w3.org/2000/svg\" height=\"24px\"viewBox=\"0 0 24 24\"\n",
              "       width=\"24px\">\n",
              "    <path d=\"M0 0h24v24H0V0z\" fill=\"none\"/>\n",
              "    <path d=\"M18.56 5.44l.94 2.06.94-2.06 2.06-.94-2.06-.94-.94-2.06-.94 2.06-2.06.94zm-11 1L8.5 8.5l.94-2.06 2.06-.94-2.06-.94L8.5 2.5l-.94 2.06-2.06.94zm10 10l.94 2.06.94-2.06 2.06-.94-2.06-.94-.94-2.06-.94 2.06-2.06.94z\"/><path d=\"M17.41 7.96l-1.37-1.37c-.4-.4-.92-.59-1.43-.59-.52 0-1.04.2-1.43.59L10.3 9.45l-7.72 7.72c-.78.78-.78 2.05 0 2.83L4 21.41c.39.39.9.59 1.41.59.51 0 1.02-.2 1.41-.59l7.78-7.78 2.81-2.81c.8-.78.8-2.07 0-2.86zM5.41 20L4 18.59l7.72-7.72 1.47 1.35L5.41 20z\"/>\n",
              "  </svg>\n",
              "      </button>\n",
              "      \n",
              "  <style>\n",
              "    .colab-df-container {\n",
              "      display:flex;\n",
              "      flex-wrap:wrap;\n",
              "      gap: 12px;\n",
              "    }\n",
              "\n",
              "    .colab-df-convert {\n",
              "      background-color: #E8F0FE;\n",
              "      border: none;\n",
              "      border-radius: 50%;\n",
              "      cursor: pointer;\n",
              "      display: none;\n",
              "      fill: #1967D2;\n",
              "      height: 32px;\n",
              "      padding: 0 0 0 0;\n",
              "      width: 32px;\n",
              "    }\n",
              "\n",
              "    .colab-df-convert:hover {\n",
              "      background-color: #E2EBFA;\n",
              "      box-shadow: 0px 1px 2px rgba(60, 64, 67, 0.3), 0px 1px 3px 1px rgba(60, 64, 67, 0.15);\n",
              "      fill: #174EA6;\n",
              "    }\n",
              "\n",
              "    [theme=dark] .colab-df-convert {\n",
              "      background-color: #3B4455;\n",
              "      fill: #D2E3FC;\n",
              "    }\n",
              "\n",
              "    [theme=dark] .colab-df-convert:hover {\n",
              "      background-color: #434B5C;\n",
              "      box-shadow: 0px 1px 3px 1px rgba(0, 0, 0, 0.15);\n",
              "      filter: drop-shadow(0px 1px 2px rgba(0, 0, 0, 0.3));\n",
              "      fill: #FFFFFF;\n",
              "    }\n",
              "  </style>\n",
              "\n",
              "      <script>\n",
              "        const buttonEl =\n",
              "          document.querySelector('#df-89a3d4c5-a63c-4997-a86b-604e22966756 button.colab-df-convert');\n",
              "        buttonEl.style.display =\n",
              "          google.colab.kernel.accessAllowed ? 'block' : 'none';\n",
              "\n",
              "        async function convertToInteractive(key) {\n",
              "          const element = document.querySelector('#df-89a3d4c5-a63c-4997-a86b-604e22966756');\n",
              "          const dataTable =\n",
              "            await google.colab.kernel.invokeFunction('convertToInteractive',\n",
              "                                                     [key], {});\n",
              "          if (!dataTable) return;\n",
              "\n",
              "          const docLinkHtml = 'Like what you see? Visit the ' +\n",
              "            '<a target=\"_blank\" href=https://colab.research.google.com/notebooks/data_table.ipynb>data table notebook</a>'\n",
              "            + ' to learn more about interactive tables.';\n",
              "          element.innerHTML = '';\n",
              "          dataTable['output_type'] = 'display_data';\n",
              "          await google.colab.output.renderOutput(dataTable, element);\n",
              "          const docLink = document.createElement('div');\n",
              "          docLink.innerHTML = docLinkHtml;\n",
              "          element.appendChild(docLink);\n",
              "        }\n",
              "      </script>\n",
              "    </div>\n",
              "  </div>\n",
              "  "
            ]
          },
          "metadata": {},
          "execution_count": 26
        }
      ]
    },
    {
      "cell_type": "code",
      "source": [
        "ssn_edge_list = [(edge.split(',')[0], edge.split(',')[1], {'weight':id}) for edge, id in zip(SSN_df['name'], SSN_df['%id'])]"
      ],
      "metadata": {
        "id": "LCeTwq4ce5W6"
      },
      "execution_count": 27,
      "outputs": []
    },
    {
      "cell_type": "code",
      "source": [
        "G_ssn = nx.Graph()\n",
        "G_ssn.add_edges_from(ssn_edge_list)"
      ],
      "metadata": {
        "id": "oXmWOvUafIHh"
      },
      "execution_count": 28,
      "outputs": []
    },
    {
      "cell_type": "code",
      "source": [
        "print(f\"Initial number of edges is {len(G_ssn.edges)} and number of nodes is {len(G_ssn.nodes)}\")"
      ],
      "metadata": {
        "colab": {
          "base_uri": "https://localhost:8080/"
        },
        "id": "pPHkVznAfLGr",
        "outputId": "0a52fedf-d5eb-4162-cc6d-26a1a6f1a817"
      },
      "execution_count": 29,
      "outputs": [
        {
          "output_type": "stream",
          "name": "stdout",
          "text": [
            "Initial number of edges is 548152 and number of nodes is 15677\n"
          ]
        }
      ]
    },
    {
      "cell_type": "code",
      "source": [
        "print(f\"Initial number of connected components is {len([g for g in nx.connected_components(G_ssn)])}\")"
      ],
      "metadata": {
        "colab": {
          "base_uri": "https://localhost:8080/"
        },
        "id": "uMNsq4AE_-_v",
        "outputId": "9b0bbb29-2f0b-47a3-d82b-0927b0b80f41"
      },
      "execution_count": 30,
      "outputs": [
        {
          "output_type": "stream",
          "name": "stdout",
          "text": [
            "Initial number of connected components is 1752\n"
          ]
        }
      ]
    },
    {
      "cell_type": "code",
      "source": [
        "l = sorted([list(sub) for sub in nx.connected_components(G_ssn)], reverse=True, key=len)"
      ],
      "metadata": {
        "id": "DHDpdM3IK9tD"
      },
      "execution_count": 31,
      "outputs": []
    },
    {
      "cell_type": "code",
      "source": [
        "num_el = [len(el) for el in l]"
      ],
      "metadata": {
        "id": "5BLMEwb0tlyT"
      },
      "execution_count": 32,
      "outputs": []
    },
    {
      "cell_type": "code",
      "source": [
        "plt.hist(sorted(num_el, reverse=True)[2:],bins=40)\n",
        "plt.show()"
      ],
      "metadata": {
        "colab": {
          "base_uri": "https://localhost:8080/",
          "height": 265
        },
        "id": "nXSyThBqufqV",
        "outputId": "5dd09e73-5948-475d-9a6d-3e93a16206b0"
      },
      "execution_count": 33,
      "outputs": [
        {
          "output_type": "display_data",
          "data": {
            "text/plain": [
              "<Figure size 432x288 with 1 Axes>"
            ],
            "image/png": "[encoded data removed]"
          },
          "metadata": {
            "needs_background": "light"
          }
        }
      ]
    },
    {
      "cell_type": "code",
      "source": [
        "# new_edges = []\n",
        "# for i in tqdm(range(len(l))):\n",
        "#   j = (i+1)%len(l)\n",
        "#   new_edges.append((l[i][np.random.randint(len(l[i]))], l[j][np.random.randint(len(l[j]))],{'weight': 0.1}))"
      ],
      "metadata": {
        "id": "sit5Ushavz0i"
      },
      "execution_count": 34,
      "outputs": []
    },
    {
      "cell_type": "code",
      "source": [
        "#len(new_edges)"
      ],
      "metadata": {
        "id": "wxPmLGOm7aSs"
      },
      "execution_count": 35,
      "outputs": []
    },
    {
      "cell_type": "code",
      "source": [
        "#G_ssn.add_edges_from(new_edges)"
      ],
      "metadata": {
        "id": "hoLxLV7VPZsc"
      },
      "execution_count": 36,
      "outputs": []
    },
    {
      "cell_type": "code",
      "source": [
        "nodes_not_in_G_ssn = [n for n in node_info.name.values if n not in G_ssn.nodes]"
      ],
      "metadata": {
        "id": "I4Z6qdMNKD1Z"
      },
      "execution_count": 37,
      "outputs": []
    },
    {
      "cell_type": "code",
      "source": [
        "len(nodes_not_in_G_ssn)"
      ],
      "metadata": {
        "colab": {
          "base_uri": "https://localhost:8080/"
        },
        "id": "MfHE7uKxKh9n",
        "outputId": "b124d633-a630-46c4-e5f7-b555e7412ca4"
      },
      "execution_count": 38,
      "outputs": [
        {
          "output_type": "execute_result",
          "data": {
            "text/plain": [
              "3889"
            ]
          },
          "metadata": {},
          "execution_count": 38
        }
      ]
    },
    {
      "cell_type": "code",
      "source": [
        "G_ssn.add_nodes_from(nodes_not_in_G_ssn)"
      ],
      "metadata": {
        "id": "bJw7S4q1LOjx"
      },
      "execution_count": 39,
      "outputs": []
    },
    {
      "cell_type": "code",
      "source": [
        "#nodes = list(G_ssn.nodes)\n",
        "#missing_edges = [(nodes[i], nodes[j], {'weight':0.1}) for i in tqdm(range(len(nodes)-1)) for j in range(i+1, len(nodes)) if (nodes[i], nodes[j]) not in G_ssn.edges]"
      ],
      "metadata": {
        "id": "SvXyKNNcLsqi"
      },
      "execution_count": 40,
      "outputs": []
    },
    {
      "cell_type": "code",
      "source": [
        "#connect_nodes = [(n,np.random.choice(G_ssn.nodes), {'weight':0.1}) for n in tqdm(node_info.name.values) if n not in G_ssn.nodes]"
      ],
      "metadata": {
        "id": "p6GKjDxN0ZFA"
      },
      "execution_count": 41,
      "outputs": []
    },
    {
      "cell_type": "code",
      "source": [
        "#G_ssn.add_edges_from(connect_nodes)"
      ],
      "metadata": {
        "id": "VzVHwAb-0qDa"
      },
      "execution_count": 42,
      "outputs": []
    },
    {
      "cell_type": "code",
      "source": [
        "#assert nx.is_connected(G_ssn), \"oops the SS network is not connected\""
      ],
      "metadata": {
        "id": "adcISmcWj9zt"
      },
      "execution_count": 43,
      "outputs": []
    },
    {
      "cell_type": "code",
      "source": [
        "len(G_ssn.nodes)"
      ],
      "metadata": {
        "colab": {
          "base_uri": "https://localhost:8080/"
        },
        "id": "ctelSgZXpwiw",
        "outputId": "0f5e1039-1d6b-4782-e19f-b7bb70e94250"
      },
      "execution_count": 44,
      "outputs": [
        {
          "output_type": "execute_result",
          "data": {
            "text/plain": [
              "19566"
            ]
          },
          "metadata": {},
          "execution_count": 44
        }
      ]
    },
    {
      "cell_type": "markdown",
      "source": [
        "### Create Embeddings"
      ],
      "metadata": {
        "id": "QeU3k3QKOrEA"
      }
    },
    {
      "cell_type": "code",
      "source": [
        "parameters_ssn = {'dimensions':[512], 'walk_length':[16]}"
      ],
      "metadata": {
        "id": "rbqV3glIOwdG"
      },
      "execution_count": 45,
      "outputs": []
    },
    {
      "cell_type": "code",
      "source": [
        "embedding_ssn = lambda dimensions,walk_length: embed.embedding_func(dimensions,walk_length, G_ssn, embeddings + '/human_ss')"
      ],
      "metadata": {
        "id": "NopuyQdcTL7Q"
      },
      "execution_count": 46,
      "outputs": []
    },
    {
      "cell_type": "code",
      "source": [
        "embed.grid_search(parameters_ssn, embedding_ssn)"
      ],
      "metadata": {
        "colab": {
          "base_uri": "https://localhost:8080/",
          "height": 344,
          "referenced_widgets": [
            "caf2639180234c32bd8c5aa5491d3389",
            "5b1c70d962e14df3997a7425d88f7e92",
            "54036af17ad7460a9612db78b05b8402",
            "7c31959364ae4e78ad9fed7c0a6d0b90",
            "b669ea3c50934e4c945813f3dbe59056",
            "a1a3c5b86ebe464cb503a9bda3f7f474",
            "90564759c00a45cca4170bc62ee794d4",
            "b3bc0d8c2fe141f5877451ca7b644435",
            "4009365ad86c43938693d618fc15a1c3",
            "48c99d9372f9483480886afbb442aaf5",
            "10d96567f0874a9f89fcbbd690d3091a"
          ]
        },
        "id": "zvc5F2y-YfVh",
        "outputId": "cdac97df-178c-47f9-bab6-a2d811827cad"
      },
      "execution_count": 47,
      "outputs": [
        {
          "output_type": "display_data",
          "data": {
            "text/plain": [
              "Computing transition probabilities:   0%|          | 0/19566 [00:00<?, ?it/s]"
            ],
            "application/vnd.jupyter.widget-view+json": {
              "version_major": 2,
              "version_minor": 0,
              "model_id": "caf2639180234c32bd8c5aa5491d3389"
            }
          },
          "metadata": {}
        },
        {
          "output_type": "error",
          "ename": "KeyboardInterrupt",
          "evalue": "ignored",
          "traceback": [
            "\u001b[0;31m---------------------------------------------------------------------------\u001b[0m",
            "\u001b[0;31mKeyboardInterrupt\u001b[0m                         Traceback (most recent call last)",
            "\u001b[0;32m<ipython-input-47-c47a9a6a36fc>\u001b[0m in \u001b[0;36m<module>\u001b[0;34m\u001b[0m\n\u001b[0;32m----> 1\u001b[0;31m \u001b[0membed\u001b[0m\u001b[0;34m.\u001b[0m\u001b[0mgrid_search\u001b[0m\u001b[0;34m(\u001b[0m\u001b[0mparameters_ssn\u001b[0m\u001b[0;34m,\u001b[0m \u001b[0membedding_ssn\u001b[0m\u001b[0;34m)\u001b[0m\u001b[0;34m\u001b[0m\u001b[0;34m\u001b[0m\u001b[0m\n\u001b[0m",
            "\u001b[0;32m/content/PPIdiscovery/embeddings.py\u001b[0m in \u001b[0;36mgrid_search\u001b[0;34m(parameters, func)\u001b[0m\n\u001b[1;32m     37\u001b[0m \u001b[0;34m\u001b[0m\u001b[0m\n\u001b[1;32m     38\u001b[0m         \u001b[0;31m#store the scores for these parameters\u001b[0m\u001b[0;34m\u001b[0m\u001b[0;34m\u001b[0m\u001b[0;34m\u001b[0m\u001b[0m\n\u001b[0;32m---> 39\u001b[0;31m         \u001b[0mscores\u001b[0m\u001b[0;34m[\u001b[0m\u001b[0mtuple\u001b[0m\u001b[0;34m(\u001b[0m\u001b[0mparams\u001b[0m\u001b[0;34m.\u001b[0m\u001b[0mitems\u001b[0m\u001b[0;34m(\u001b[0m\u001b[0;34m)\u001b[0m\u001b[0;34m)\u001b[0m\u001b[0;34m]\u001b[0m \u001b[0;34m=\u001b[0m \u001b[0mfunc\u001b[0m\u001b[0;34m(\u001b[0m\u001b[0;34m**\u001b[0m\u001b[0mparams\u001b[0m\u001b[0;34m)\u001b[0m\u001b[0;34m\u001b[0m\u001b[0;34m\u001b[0m\u001b[0m\n\u001b[0m\u001b[1;32m     40\u001b[0m \u001b[0;34m\u001b[0m\u001b[0m\n\u001b[1;32m     41\u001b[0m         \u001b[0;31m#end timer\u001b[0m\u001b[0;34m\u001b[0m\u001b[0;34m\u001b[0m\u001b[0;34m\u001b[0m\u001b[0m\n",
            "\u001b[0;32m<ipython-input-46-895fd5f6d5c1>\u001b[0m in \u001b[0;36m<lambda>\u001b[0;34m(dimensions, walk_length)\u001b[0m\n\u001b[0;32m----> 1\u001b[0;31m \u001b[0membedding_ssn\u001b[0m \u001b[0;34m=\u001b[0m \u001b[0;32mlambda\u001b[0m \u001b[0mdimensions\u001b[0m\u001b[0;34m,\u001b[0m\u001b[0mwalk_length\u001b[0m\u001b[0;34m:\u001b[0m \u001b[0membed\u001b[0m\u001b[0;34m.\u001b[0m\u001b[0membedding_func\u001b[0m\u001b[0;34m(\u001b[0m\u001b[0mdimensions\u001b[0m\u001b[0;34m,\u001b[0m\u001b[0mwalk_length\u001b[0m\u001b[0;34m,\u001b[0m \u001b[0mG_ssn\u001b[0m\u001b[0;34m,\u001b[0m \u001b[0membeddings\u001b[0m \u001b[0;34m+\u001b[0m \u001b[0;34m'/human_ss'\u001b[0m\u001b[0;34m)\u001b[0m\u001b[0;34m\u001b[0m\u001b[0;34m\u001b[0m\u001b[0m\n\u001b[0m",
            "\u001b[0;32m/content/PPIdiscovery/embeddings.py\u001b[0m in \u001b[0;36membedding_func\u001b[0;34m(dimensions, walk_length, G_embeddings, EMBEDDING_FILENAME)\u001b[0m\n\u001b[1;32m      6\u001b[0m \u001b[0;32mdef\u001b[0m \u001b[0membedding_func\u001b[0m\u001b[0;34m(\u001b[0m\u001b[0mdimensions\u001b[0m\u001b[0;34m,\u001b[0m\u001b[0mwalk_length\u001b[0m\u001b[0;34m,\u001b[0m \u001b[0mG_embeddings\u001b[0m\u001b[0;34m,\u001b[0m \u001b[0mEMBEDDING_FILENAME\u001b[0m\u001b[0;34m)\u001b[0m\u001b[0;34m:\u001b[0m\u001b[0;34m\u001b[0m\u001b[0;34m\u001b[0m\u001b[0m\n\u001b[1;32m      7\u001b[0m   \u001b[0;31m# Generate walks\u001b[0m\u001b[0;34m\u001b[0m\u001b[0;34m\u001b[0m\u001b[0;34m\u001b[0m\u001b[0m\n\u001b[0;32m----> 8\u001b[0;31m   \u001b[0mnode2vec\u001b[0m \u001b[0;34m=\u001b[0m \u001b[0mNode2Vec\u001b[0m\u001b[0;34m(\u001b[0m\u001b[0mG_embeddings\u001b[0m\u001b[0;34m,\u001b[0m \u001b[0mdimensions\u001b[0m\u001b[0;34m=\u001b[0m\u001b[0mdimensions\u001b[0m\u001b[0;34m,\u001b[0m \u001b[0mwalk_length\u001b[0m\u001b[0;34m=\u001b[0m\u001b[0mwalk_length\u001b[0m\u001b[0;34m,\u001b[0m \u001b[0mnum_walks\u001b[0m\u001b[0;34m=\u001b[0m\u001b[0;36m50\u001b[0m\u001b[0;34m,\u001b[0m \u001b[0mworkers\u001b[0m\u001b[0;34m=\u001b[0m\u001b[0;36m1\u001b[0m\u001b[0;34m)\u001b[0m\u001b[0;34m\u001b[0m\u001b[0;34m\u001b[0m\u001b[0m\n\u001b[0m\u001b[1;32m      9\u001b[0m \u001b[0;34m\u001b[0m\u001b[0m\n\u001b[1;32m     10\u001b[0m   \u001b[0;31m# train node2vec model\u001b[0m\u001b[0;34m\u001b[0m\u001b[0;34m\u001b[0m\u001b[0;34m\u001b[0m\u001b[0m\n",
            "\u001b[0;32m/usr/local/lib/python3.7/dist-packages/node2vec/node2vec.py\u001b[0m in \u001b[0;36m__init__\u001b[0;34m(self, graph, dimensions, walk_length, num_walks, p, q, weight_key, workers, sampling_strategy, quiet, temp_folder, seed)\u001b[0m\n\u001b[1;32m     71\u001b[0m             \u001b[0mnp\u001b[0m\u001b[0;34m.\u001b[0m\u001b[0mrandom\u001b[0m\u001b[0;34m.\u001b[0m\u001b[0mseed\u001b[0m\u001b[0;34m(\u001b[0m\u001b[0mseed\u001b[0m\u001b[0;34m)\u001b[0m\u001b[0;34m\u001b[0m\u001b[0;34m\u001b[0m\u001b[0m\n\u001b[1;32m     72\u001b[0m \u001b[0;34m\u001b[0m\u001b[0m\n\u001b[0;32m---> 73\u001b[0;31m         \u001b[0mself\u001b[0m\u001b[0;34m.\u001b[0m\u001b[0m_precompute_probabilities\u001b[0m\u001b[0;34m(\u001b[0m\u001b[0;34m)\u001b[0m\u001b[0;34m\u001b[0m\u001b[0;34m\u001b[0m\u001b[0m\n\u001b[0m\u001b[1;32m     74\u001b[0m         \u001b[0mself\u001b[0m\u001b[0;34m.\u001b[0m\u001b[0mwalks\u001b[0m \u001b[0;34m=\u001b[0m \u001b[0mself\u001b[0m\u001b[0;34m.\u001b[0m\u001b[0m_generate_walks\u001b[0m\u001b[0;34m(\u001b[0m\u001b[0;34m)\u001b[0m\u001b[0;34m\u001b[0m\u001b[0;34m\u001b[0m\u001b[0m\n\u001b[1;32m     75\u001b[0m \u001b[0;34m\u001b[0m\u001b[0m\n",
            "\u001b[0;32m/usr/local/lib/python3.7/dist-packages/node2vec/node2vec.py\u001b[0m in \u001b[0;36m_precompute_probabilities\u001b[0;34m(self)\u001b[0m\n\u001b[1;32m    109\u001b[0m                     \u001b[0;32mif\u001b[0m \u001b[0mdestination\u001b[0m \u001b[0;34m==\u001b[0m \u001b[0msource\u001b[0m\u001b[0;34m:\u001b[0m  \u001b[0;31m# Backwards probability\u001b[0m\u001b[0;34m\u001b[0m\u001b[0;34m\u001b[0m\u001b[0m\n\u001b[1;32m    110\u001b[0m                         \u001b[0mss_weight\u001b[0m \u001b[0;34m=\u001b[0m \u001b[0mself\u001b[0m\u001b[0;34m.\u001b[0m\u001b[0mgraph\u001b[0m\u001b[0;34m[\u001b[0m\u001b[0mcurrent_node\u001b[0m\u001b[0;34m]\u001b[0m\u001b[0;34m[\u001b[0m\u001b[0mdestination\u001b[0m\u001b[0;34m]\u001b[0m\u001b[0;34m.\u001b[0m\u001b[0mget\u001b[0m\u001b[0;34m(\u001b[0m\u001b[0mself\u001b[0m\u001b[0;34m.\u001b[0m\u001b[0mweight_key\u001b[0m\u001b[0;34m,\u001b[0m \u001b[0;36m1\u001b[0m\u001b[0;34m)\u001b[0m \u001b[0;34m*\u001b[0m \u001b[0;36m1\u001b[0m \u001b[0;34m/\u001b[0m \u001b[0mp\u001b[0m\u001b[0;34m\u001b[0m\u001b[0;34m\u001b[0m\u001b[0m\n\u001b[0;32m--> 111\u001b[0;31m                     \u001b[0;32melif\u001b[0m \u001b[0mdestination\u001b[0m \u001b[0;32min\u001b[0m \u001b[0mself\u001b[0m\u001b[0;34m.\u001b[0m\u001b[0mgraph\u001b[0m\u001b[0;34m[\u001b[0m\u001b[0msource\u001b[0m\u001b[0;34m]\u001b[0m\u001b[0;34m:\u001b[0m  \u001b[0;31m# If the neighbor is connected to the source\u001b[0m\u001b[0;34m\u001b[0m\u001b[0;34m\u001b[0m\u001b[0m\n\u001b[0m\u001b[1;32m    112\u001b[0m                         \u001b[0mss_weight\u001b[0m \u001b[0;34m=\u001b[0m \u001b[0mself\u001b[0m\u001b[0;34m.\u001b[0m\u001b[0mgraph\u001b[0m\u001b[0;34m[\u001b[0m\u001b[0mcurrent_node\u001b[0m\u001b[0;34m]\u001b[0m\u001b[0;34m[\u001b[0m\u001b[0mdestination\u001b[0m\u001b[0;34m]\u001b[0m\u001b[0;34m.\u001b[0m\u001b[0mget\u001b[0m\u001b[0;34m(\u001b[0m\u001b[0mself\u001b[0m\u001b[0;34m.\u001b[0m\u001b[0mweight_key\u001b[0m\u001b[0;34m,\u001b[0m \u001b[0;36m1\u001b[0m\u001b[0;34m)\u001b[0m\u001b[0;34m\u001b[0m\u001b[0;34m\u001b[0m\u001b[0m\n\u001b[1;32m    113\u001b[0m                     \u001b[0;32melse\u001b[0m\u001b[0;34m:\u001b[0m\u001b[0;34m\u001b[0m\u001b[0;34m\u001b[0m\u001b[0m\n",
            "\u001b[0;32m/usr/local/lib/python3.7/dist-packages/networkx/classes/graph.py\u001b[0m in \u001b[0;36m__getitem__\u001b[0;34m(self, n)\u001b[0m\n\u001b[1;32m    474\u001b[0m         \u001b[0mAtlasView\u001b[0m\u001b[0;34m(\u001b[0m\u001b[0;34m{\u001b[0m\u001b[0;36m1\u001b[0m\u001b[0;34m:\u001b[0m \u001b[0;34m{\u001b[0m\u001b[0;34m}\u001b[0m\u001b[0;34m}\u001b[0m\u001b[0;34m)\u001b[0m\u001b[0;34m\u001b[0m\u001b[0;34m\u001b[0m\u001b[0m\n\u001b[1;32m    475\u001b[0m         \"\"\"\n\u001b[0;32m--> 476\u001b[0;31m         \u001b[0;32mreturn\u001b[0m \u001b[0mself\u001b[0m\u001b[0;34m.\u001b[0m\u001b[0madj\u001b[0m\u001b[0;34m[\u001b[0m\u001b[0mn\u001b[0m\u001b[0;34m]\u001b[0m\u001b[0;34m\u001b[0m\u001b[0;34m\u001b[0m\u001b[0m\n\u001b[0m\u001b[1;32m    477\u001b[0m \u001b[0;34m\u001b[0m\u001b[0m\n\u001b[1;32m    478\u001b[0m     \u001b[0;32mdef\u001b[0m \u001b[0madd_node\u001b[0m\u001b[0;34m(\u001b[0m\u001b[0mself\u001b[0m\u001b[0;34m,\u001b[0m \u001b[0mnode_for_adding\u001b[0m\u001b[0;34m,\u001b[0m \u001b[0;34m**\u001b[0m\u001b[0mattr\u001b[0m\u001b[0;34m)\u001b[0m\u001b[0;34m:\u001b[0m\u001b[0;34m\u001b[0m\u001b[0;34m\u001b[0m\u001b[0m\n",
            "\u001b[0;32m/usr/local/lib/python3.7/dist-packages/networkx/classes/coreviews.py\u001b[0m in \u001b[0;36m__getitem__\u001b[0;34m(self, name)\u001b[0m\n\u001b[1;32m     80\u001b[0m \u001b[0;34m\u001b[0m\u001b[0m\n\u001b[1;32m     81\u001b[0m     \u001b[0;32mdef\u001b[0m \u001b[0m__getitem__\u001b[0m\u001b[0;34m(\u001b[0m\u001b[0mself\u001b[0m\u001b[0;34m,\u001b[0m \u001b[0mname\u001b[0m\u001b[0;34m)\u001b[0m\u001b[0;34m:\u001b[0m\u001b[0;34m\u001b[0m\u001b[0;34m\u001b[0m\u001b[0m\n\u001b[0;32m---> 82\u001b[0;31m         \u001b[0;32mreturn\u001b[0m \u001b[0mAtlasView\u001b[0m\u001b[0;34m(\u001b[0m\u001b[0mself\u001b[0m\u001b[0;34m.\u001b[0m\u001b[0m_atlas\u001b[0m\u001b[0;34m[\u001b[0m\u001b[0mname\u001b[0m\u001b[0;34m]\u001b[0m\u001b[0;34m)\u001b[0m\u001b[0;34m\u001b[0m\u001b[0;34m\u001b[0m\u001b[0m\n\u001b[0m\u001b[1;32m     83\u001b[0m \u001b[0;34m\u001b[0m\u001b[0m\n\u001b[1;32m     84\u001b[0m     \u001b[0;32mdef\u001b[0m \u001b[0mcopy\u001b[0m\u001b[0;34m(\u001b[0m\u001b[0mself\u001b[0m\u001b[0;34m)\u001b[0m\u001b[0;34m:\u001b[0m\u001b[0;34m\u001b[0m\u001b[0;34m\u001b[0m\u001b[0m\n",
            "\u001b[0;31mKeyboardInterrupt\u001b[0m: "
          ]
        }
      ]
    },
    {
      "cell_type": "markdown",
      "source": [
        "## String Interaction Network"
      ],
      "metadata": {
        "id": "r8OMKjpEmp-O"
      }
    },
    {
      "cell_type": "markdown",
      "source": [
        "### Create Network"
      ],
      "metadata": {
        "id": "12U6hBQ7BbRl"
      }
    },
    {
      "cell_type": "code",
      "source": [
        "description_to_name = {k:v for k,v in zip(node_info.Description, node_info.name)}"
      ],
      "metadata": {
        "id": "aY46VW4B0v5s"
      },
      "execution_count": 48,
      "outputs": []
    },
    {
      "cell_type": "code",
      "source": [
        "string_edges = pd.read_csv(data +\"/9606.protein.links.detailed.v11.5.txt\", sep=' ')"
      ],
      "metadata": {
        "id": "8wuG1RXdlqBg"
      },
      "execution_count": 49,
      "outputs": []
    },
    {
      "cell_type": "code",
      "source": [
        "string_edges_95 = string_edges[string_edges['combined_score'].values >= 950]"
      ],
      "metadata": {
        "id": "9DY8y_FtnpWH"
      },
      "execution_count": 50,
      "outputs": []
    },
    {
      "cell_type": "code",
      "source": [
        "string_edges_95"
      ],
      "metadata": {
        "colab": {
          "base_uri": "https://localhost:8080/",
          "height": 424
        },
        "id": "dKVNjS42uYM_",
        "outputId": "ccd264fb-6649-4cb3-c441-e32772b0a384"
      },
      "execution_count": 51,
      "outputs": [
        {
          "output_type": "execute_result",
          "data": {
            "text/plain": [
              "                      protein1              protein2  neighborhood  fusion  \\\n",
              "187       9606.ENSP00000000233  9606.ENSP00000440005             0       0   \n",
              "1082      9606.ENSP00000000233  9606.ENSP00000262305             0       0   \n",
              "1490      9606.ENSP00000000412  9606.ENSP00000349437             0       0   \n",
              "1750      9606.ENSP00000000412  9606.ENSP00000391826             0       0   \n",
              "1801      9606.ENSP00000000412  9606.ENSP00000438085             0       0   \n",
              "...                        ...                   ...           ...     ...   \n",
              "11938123  9606.ENSP00000485663  9606.ENSP00000472985             0       0   \n",
              "11938186  9606.ENSP00000485663  9606.ENSP00000436049             0       0   \n",
              "11938211  9606.ENSP00000485663  9606.ENSP00000248342             0       0   \n",
              "11938234  9606.ENSP00000485663  9606.ENSP00000220849             0       0   \n",
              "11938267  9606.ENSP00000485663  9606.ENSP00000341885             0       0   \n",
              "\n",
              "          cooccurence  coexpression  experimental  database  textmining  \\\n",
              "187                50            99           679       900          59   \n",
              "1082                0             0           879         0         686   \n",
              "1490                0            55             0       800         901   \n",
              "1750                0             0             0         0         986   \n",
              "1801                0             0           932         0         537   \n",
              "...               ...           ...           ...       ...         ...   \n",
              "11938123            0           504           838       600          68   \n",
              "11938186            0           928           993       900         881   \n",
              "11938211            0           699           996       900         957   \n",
              "11938234            0           907           993       900         896   \n",
              "11938267            0           525           821       600          58   \n",
              "\n",
              "          combined_score  \n",
              "187                  969  \n",
              "1082                 960  \n",
              "1490                 979  \n",
              "1750                 986  \n",
              "1801                 967  \n",
              "...                  ...  \n",
              "11938123             966  \n",
              "11938186             999  \n",
              "11938211             999  \n",
              "11938234             999  \n",
              "11938267             963  \n",
              "\n",
              "[111842 rows x 10 columns]"
            ],
            "text/html": [
              "\n",
              "  <div id=\"df-0a0b798d-cf90-431f-a4fc-6ad4cfc95714\">\n",
              "    <div class=\"colab-df-container\">\n",
              "      <div>\n",
              "<style scoped>\n",
              "    .dataframe tbody tr th:only-of-type {\n",
              "        vertical-align: middle;\n",
              "    }\n",
              "\n",
              "    .dataframe tbody tr th {\n",
              "        vertical-align: top;\n",
              "    }\n",
              "\n",
              "    .dataframe thead th {\n",
              "        text-align: right;\n",
              "    }\n",
              "</style>\n",
              "<table border=\"1\" class=\"dataframe\">\n",
              "  <thead>\n",
              "    <tr style=\"text-align: right;\">\n",
              "      <th></th>\n",
              "      <th>protein1</th>\n",
              "      <th>protein2</th>\n",
              "      <th>neighborhood</th>\n",
              "      <th>fusion</th>\n",
              "      <th>cooccurence</th>\n",
              "      <th>coexpression</th>\n",
              "      <th>experimental</th>\n",
              "      <th>database</th>\n",
              "      <th>textmining</th>\n",
              "      <th>combined_score</th>\n",
              "    </tr>\n",
              "  </thead>\n",
              "  <tbody>\n",
              "    <tr>\n",
              "      <th>187</th>\n",
              "      <td>9606.ENSP00000000233</td>\n",
              "      <td>9606.ENSP00000440005</td>\n",
              "      <td>0</td>\n",
              "      <td>0</td>\n",
              "      <td>50</td>\n",
              "      <td>99</td>\n",
              "      <td>679</td>\n",
              "      <td>900</td>\n",
              "      <td>59</td>\n",
              "      <td>969</td>\n",
              "    </tr>\n",
              "    <tr>\n",
              "      <th>1082</th>\n",
              "      <td>9606.ENSP00000000233</td>\n",
              "      <td>9606.ENSP00000262305</td>\n",
              "      <td>0</td>\n",
              "      <td>0</td>\n",
              "      <td>0</td>\n",
              "      <td>0</td>\n",
              "      <td>879</td>\n",
              "      <td>0</td>\n",
              "      <td>686</td>\n",
              "      <td>960</td>\n",
              "    </tr>\n",
              "    <tr>\n",
              "      <th>1490</th>\n",
              "      <td>9606.ENSP00000000412</td>\n",
              "      <td>9606.ENSP00000349437</td>\n",
              "      <td>0</td>\n",
              "      <td>0</td>\n",
              "      <td>0</td>\n",
              "      <td>55</td>\n",
              "      <td>0</td>\n",
              "      <td>800</td>\n",
              "      <td>901</td>\n",
              "      <td>979</td>\n",
              "    </tr>\n",
              "    <tr>\n",
              "      <th>1750</th>\n",
              "      <td>9606.ENSP00000000412</td>\n",
              "      <td>9606.ENSP00000391826</td>\n",
              "      <td>0</td>\n",
              "      <td>0</td>\n",
              "      <td>0</td>\n",
              "      <td>0</td>\n",
              "      <td>0</td>\n",
              "      <td>0</td>\n",
              "      <td>986</td>\n",
              "      <td>986</td>\n",
              "    </tr>\n",
              "    <tr>\n",
              "      <th>1801</th>\n",
              "      <td>9606.ENSP00000000412</td>\n",
              "      <td>9606.ENSP00000438085</td>\n",
              "      <td>0</td>\n",
              "      <td>0</td>\n",
              "      <td>0</td>\n",
              "      <td>0</td>\n",
              "      <td>932</td>\n",
              "      <td>0</td>\n",
              "      <td>537</td>\n",
              "      <td>967</td>\n",
              "    </tr>\n",
              "    <tr>\n",
              "      <th>...</th>\n",
              "      <td>...</td>\n",
              "      <td>...</td>\n",
              "      <td>...</td>\n",
              "      <td>...</td>\n",
              "      <td>...</td>\n",
              "      <td>...</td>\n",
              "      <td>...</td>\n",
              "      <td>...</td>\n",
              "      <td>...</td>\n",
              "      <td>...</td>\n",
              "    </tr>\n",
              "    <tr>\n",
              "      <th>11938123</th>\n",
              "      <td>9606.ENSP00000485663</td>\n",
              "      <td>9606.ENSP00000472985</td>\n",
              "      <td>0</td>\n",
              "      <td>0</td>\n",
              "      <td>0</td>\n",
              "      <td>504</td>\n",
              "      <td>838</td>\n",
              "      <td>600</td>\n",
              "      <td>68</td>\n",
              "      <td>966</td>\n",
              "    </tr>\n",
              "    <tr>\n",
              "      <th>11938186</th>\n",
              "      <td>9606.ENSP00000485663</td>\n",
              "      <td>9606.ENSP00000436049</td>\n",
              "      <td>0</td>\n",
              "      <td>0</td>\n",
              "      <td>0</td>\n",
              "      <td>928</td>\n",
              "      <td>993</td>\n",
              "      <td>900</td>\n",
              "      <td>881</td>\n",
              "      <td>999</td>\n",
              "    </tr>\n",
              "    <tr>\n",
              "      <th>11938211</th>\n",
              "      <td>9606.ENSP00000485663</td>\n",
              "      <td>9606.ENSP00000248342</td>\n",
              "      <td>0</td>\n",
              "      <td>0</td>\n",
              "      <td>0</td>\n",
              "      <td>699</td>\n",
              "      <td>996</td>\n",
              "      <td>900</td>\n",
              "      <td>957</td>\n",
              "      <td>999</td>\n",
              "    </tr>\n",
              "    <tr>\n",
              "      <th>11938234</th>\n",
              "      <td>9606.ENSP00000485663</td>\n",
              "      <td>9606.ENSP00000220849</td>\n",
              "      <td>0</td>\n",
              "      <td>0</td>\n",
              "      <td>0</td>\n",
              "      <td>907</td>\n",
              "      <td>993</td>\n",
              "      <td>900</td>\n",
              "      <td>896</td>\n",
              "      <td>999</td>\n",
              "    </tr>\n",
              "    <tr>\n",
              "      <th>11938267</th>\n",
              "      <td>9606.ENSP00000485663</td>\n",
              "      <td>9606.ENSP00000341885</td>\n",
              "      <td>0</td>\n",
              "      <td>0</td>\n",
              "      <td>0</td>\n",
              "      <td>525</td>\n",
              "      <td>821</td>\n",
              "      <td>600</td>\n",
              "      <td>58</td>\n",
              "      <td>963</td>\n",
              "    </tr>\n",
              "  </tbody>\n",
              "</table>\n",
              "<p>111842 rows × 10 columns</p>\n",
              "</div>\n",
              "      <button class=\"colab-df-convert\" onclick=\"convertToInteractive('df-0a0b798d-cf90-431f-a4fc-6ad4cfc95714')\"\n",
              "              title=\"Convert this dataframe to an interactive table.\"\n",
              "              style=\"display:none;\">\n",
              "        \n",
              "  <svg xmlns=\"http://www.w3.org/2000/svg\" height=\"24px\"viewBox=\"0 0 24 24\"\n",
              "       width=\"24px\">\n",
              "    <path d=\"M0 0h24v24H0V0z\" fill=\"none\"/>\n",
              "    <path d=\"M18.56 5.44l.94 2.06.94-2.06 2.06-.94-2.06-.94-.94-2.06-.94 2.06-2.06.94zm-11 1L8.5 8.5l.94-2.06 2.06-.94-2.06-.94L8.5 2.5l-.94 2.06-2.06.94zm10 10l.94 2.06.94-2.06 2.06-.94-2.06-.94-.94-2.06-.94 2.06-2.06.94z\"/><path d=\"M17.41 7.96l-1.37-1.37c-.4-.4-.92-.59-1.43-.59-.52 0-1.04.2-1.43.59L10.3 9.45l-7.72 7.72c-.78.78-.78 2.05 0 2.83L4 21.41c.39.39.9.59 1.41.59.51 0 1.02-.2 1.41-.59l7.78-7.78 2.81-2.81c.8-.78.8-2.07 0-2.86zM5.41 20L4 18.59l7.72-7.72 1.47 1.35L5.41 20z\"/>\n",
              "  </svg>\n",
              "      </button>\n",
              "      \n",
              "  <style>\n",
              "    .colab-df-container {\n",
              "      display:flex;\n",
              "      flex-wrap:wrap;\n",
              "      gap: 12px;\n",
              "    }\n",
              "\n",
              "    .colab-df-convert {\n",
              "      background-color: #E8F0FE;\n",
              "      border: none;\n",
              "      border-radius: 50%;\n",
              "      cursor: pointer;\n",
              "      display: none;\n",
              "      fill: #1967D2;\n",
              "      height: 32px;\n",
              "      padding: 0 0 0 0;\n",
              "      width: 32px;\n",
              "    }\n",
              "\n",
              "    .colab-df-convert:hover {\n",
              "      background-color: #E2EBFA;\n",
              "      box-shadow: 0px 1px 2px rgba(60, 64, 67, 0.3), 0px 1px 3px 1px rgba(60, 64, 67, 0.15);\n",
              "      fill: #174EA6;\n",
              "    }\n",
              "\n",
              "    [theme=dark] .colab-df-convert {\n",
              "      background-color: #3B4455;\n",
              "      fill: #D2E3FC;\n",
              "    }\n",
              "\n",
              "    [theme=dark] .colab-df-convert:hover {\n",
              "      background-color: #434B5C;\n",
              "      box-shadow: 0px 1px 3px 1px rgba(0, 0, 0, 0.15);\n",
              "      filter: drop-shadow(0px 1px 2px rgba(0, 0, 0, 0.3));\n",
              "      fill: #FFFFFF;\n",
              "    }\n",
              "  </style>\n",
              "\n",
              "      <script>\n",
              "        const buttonEl =\n",
              "          document.querySelector('#df-0a0b798d-cf90-431f-a4fc-6ad4cfc95714 button.colab-df-convert');\n",
              "        buttonEl.style.display =\n",
              "          google.colab.kernel.accessAllowed ? 'block' : 'none';\n",
              "\n",
              "        async function convertToInteractive(key) {\n",
              "          const element = document.querySelector('#df-0a0b798d-cf90-431f-a4fc-6ad4cfc95714');\n",
              "          const dataTable =\n",
              "            await google.colab.kernel.invokeFunction('convertToInteractive',\n",
              "                                                     [key], {});\n",
              "          if (!dataTable) return;\n",
              "\n",
              "          const docLinkHtml = 'Like what you see? Visit the ' +\n",
              "            '<a target=\"_blank\" href=https://colab.research.google.com/notebooks/data_table.ipynb>data table notebook</a>'\n",
              "            + ' to learn more about interactive tables.';\n",
              "          element.innerHTML = '';\n",
              "          dataTable['output_type'] = 'display_data';\n",
              "          await google.colab.output.renderOutput(dataTable, element);\n",
              "          const docLink = document.createElement('div');\n",
              "          docLink.innerHTML = docLinkHtml;\n",
              "          element.appendChild(docLink);\n",
              "        }\n",
              "      </script>\n",
              "    </div>\n",
              "  </div>\n",
              "  "
            ]
          },
          "metadata": {},
          "execution_count": 51
        }
      ]
    },
    {
      "cell_type": "code",
      "source": [
        "interactions = [(description_to_name[p1], description_to_name[p2]) for p1, p2 in zip(string_edges_95.protein1.values, string_edges_95.protein2.values)]"
      ],
      "metadata": {
        "id": "7HKurV0o1hEq"
      },
      "execution_count": 52,
      "outputs": []
    },
    {
      "cell_type": "code",
      "source": [
        "G_string = nx.Graph()\n",
        "G_string.add_edges_from(interactions)"
      ],
      "metadata": {
        "id": "bZVY-OYg2hUT"
      },
      "execution_count": 53,
      "outputs": []
    },
    {
      "cell_type": "code",
      "source": [
        "len(G_string.nodes)"
      ],
      "metadata": {
        "colab": {
          "base_uri": "https://localhost:8080/"
        },
        "id": "71na3V3k7srH",
        "outputId": "868c34f3-1ab0-4c35-86ce-241afa7f3773"
      },
      "execution_count": 54,
      "outputs": [
        {
          "output_type": "execute_result",
          "data": {
            "text/plain": [
              "9640"
            ]
          },
          "metadata": {},
          "execution_count": 54
        }
      ]
    },
    {
      "cell_type": "code",
      "source": [
        "nx.is_connected(G_string)"
      ],
      "metadata": {
        "colab": {
          "base_uri": "https://localhost:8080/"
        },
        "id": "OW8_uE9UFtsk",
        "outputId": "e55194cd-3803-42b4-9e24-befc3474863b"
      },
      "execution_count": 55,
      "outputs": [
        {
          "output_type": "execute_result",
          "data": {
            "text/plain": [
              "False"
            ]
          },
          "metadata": {},
          "execution_count": 55
        }
      ]
    },
    {
      "cell_type": "markdown",
      "source": [
        "### Included/Excluded Edges"
      ],
      "metadata": {
        "id": "xroXSs6pTS4p"
      }
    },
    {
      "cell_type": "code",
      "source": [
        "def density(g):\n",
        "  return 2*len(g.edges)/(len(g.nodes)**2)"
      ],
      "metadata": {
        "id": "2Yj0p0NlaJWn"
      },
      "execution_count": 56,
      "outputs": []
    },
    {
      "cell_type": "code",
      "source": [
        "def compute_negatome(G):\n",
        "  #negatome\n",
        "  L = list(G.nodes())\n",
        "  G_neg = nx.Graph()\n",
        "  G_neg.add_nodes_from(L)\n",
        "  G_neg.add_edges_from(itertools.combinations(L, 2))\n",
        "  G_neg.remove_edges_from(G.edges())\n",
        "  return G_neg\n",
        "\n",
        "def realistic_dataset_maker(G, G_neg, excluded_percent=0.05, network_density=None):\n",
        "  #excluded edges\n",
        "  excluded_edges = random.sample(G.edges, int(len(G.edges)*excluded_percent))\n",
        "\n",
        "  G_train = deepcopy(G)\n",
        "  G_train.remove_edges_from(excluded_edges)\n",
        "\n",
        "  assert len(G_train.edges) < len(G.edges)\n",
        "\n",
        "  #needed number of negative samples\n",
        "  if network_density is None:\n",
        "    network_density = density(G)\n",
        "  negative_sampling_number = int(len(excluded_edges)*(1/network_density - 1))\n",
        "\n",
        "  #sampled negative edges\n",
        "  negative_egdes = random.sample(G_neg.edges, negative_sampling_number)\n",
        "\n",
        "  #dataset\n",
        "  X = np.vstack([np.array([e[0], e[1]]) for e in negative_egdes + excluded_edges])\n",
        "  Y = [0 for _ in range(len(negative_egdes))] + [1 for _ in range(len(excluded_edges))]\n",
        "\n",
        "  print(f\"The density is {np.sum(Y)/len(Y)}\")\n",
        "\n",
        "  return X, Y, G_train"
      ],
      "metadata": {
        "id": "6fCbkPLwikJX"
      },
      "execution_count": 57,
      "outputs": []
    },
    {
      "cell_type": "code",
      "source": [
        "#negatome\n",
        "G_neg = compute_negatome(G_string)"
      ],
      "metadata": {
        "id": "lLRJXM78umdn"
      },
      "execution_count": 58,
      "outputs": []
    },
    {
      "cell_type": "code",
      "source": [
        "X, Y, G_train = realistic_dataset_maker(G_string, G_neg, excluded_percent=0.20, network_density=0.5)"
      ],
      "metadata": {
        "colab": {
          "base_uri": "https://localhost:8080/"
        },
        "id": "msA-ZeiKoAH7",
        "outputId": "a6c4a836-7921-47a3-bbaf-e7ed8ca7cb75"
      },
      "execution_count": 59,
      "outputs": [
        {
          "output_type": "stream",
          "name": "stdout",
          "text": [
            "The density is 0.5\n"
          ]
        }
      ]
    },
    {
      "cell_type": "code",
      "source": [
        "xtrain, xtest, ytrain, ytest = train_test_split(X, Y, test_size = 0.3, random_state = 39)"
      ],
      "metadata": {
        "id": "bCxbTTr0l2I-"
      },
      "execution_count": 85,
      "outputs": []
    },
    {
      "cell_type": "code",
      "source": [
        "np.sum(ytest)/len(ytest)"
      ],
      "metadata": {
        "colab": {
          "base_uri": "https://localhost:8080/"
        },
        "id": "cf8vhqsVoV1w",
        "outputId": "876e9677-d975-4352-dba6-99458829eb5a"
      },
      "execution_count": 86,
      "outputs": [
        {
          "output_type": "execute_result",
          "data": {
            "text/plain": [
              "0.497094322753688"
            ]
          },
          "metadata": {},
          "execution_count": 86
        }
      ]
    },
    {
      "cell_type": "code",
      "source": [
        "training_set = pd.DataFrame(np.hstack([xtrain, np.asarray(ytrain).reshape((len(ytrain),1))]), columns=['p1', 'p2', 'interaction?'])\n",
        "testing_set = pd.DataFrame(np.hstack([xtest, np.asarray(ytest).reshape((len(ytest),1))]), columns=['p1', 'p2', 'interaction?'])"
      ],
      "metadata": {
        "id": "GSSie_bVqSLr"
      },
      "execution_count": 96,
      "outputs": []
    },
    {
      "cell_type": "code",
      "source": [
        "training_set.to_csv('drive/MyDrive/protein_network/string/human/datasets/training.csv')\n",
        "testing_set.to_csv('drive/MyDrive/protein_network/string/human/datasets/testing.csv')"
      ],
      "metadata": {
        "id": "dB4PlKawr4dC"
      },
      "execution_count": 97,
      "outputs": []
    },
    {
      "cell_type": "code",
      "source": [
        "g_train_edges = pd.DataFrame(np.vstack([np.asarray(e) for e in G_train.edges]), columns=['p1', 'p2'])"
      ],
      "metadata": {
        "id": "rTlo__ZDsRm1"
      },
      "execution_count": 104,
      "outputs": []
    },
    {
      "cell_type": "code",
      "source": [
        "g_train_edges.to_csv('drive/MyDrive/protein_network/string/human/datasets/g_train_edges.csv')"
      ],
      "metadata": {
        "id": "ZqXiw4EMulC4"
      },
      "execution_count": 106,
      "outputs": []
    },
    {
      "cell_type": "markdown",
      "source": [
        "### Create Embeddings"
      ],
      "metadata": {
        "id": "mAQ5LXfeBcon"
      }
    },
    {
      "cell_type": "code",
      "source": [
        "parameters_string = {'dimensions':[512], 'walk_length':[16]}"
      ],
      "metadata": {
        "id": "quOhBzuEBnOp"
      },
      "execution_count": 107,
      "outputs": []
    },
    {
      "cell_type": "code",
      "source": [
        "embedding_string = lambda dimensions,walk_length: embed.embedding_func(dimensions,walk_length, G_train, embeddings + '/human_string')"
      ],
      "metadata": {
        "id": "RORE3Ot7BnOq"
      },
      "execution_count": 108,
      "outputs": []
    },
    {
      "cell_type": "code",
      "source": [
        "embed.grid_search(parameters_string, embedding_string)"
      ],
      "metadata": {
        "colab": {
          "base_uri": "https://localhost:8080/",
          "height": 118,
          "referenced_widgets": [
            "3b4fd7bf6d594e8497ce70bc88bfbed0",
            "38ce151957254d858666c3b511f8603c",
            "1e2033ebf4614414859a3e0eb8e3ccc2",
            "43000b082d0f408e9110c9216cbd7cd6",
            "13c13329dbea47f29d2159a08fb997db",
            "73081c195c9f4cf981c4d56d981d417a",
            "c0e9fe33ede8490a8abc379da7fb3ec0",
            "e87cade5a36f442087d45fc0a7439cc2",
            "b97ed4ed7b214a58b43fe252df620278",
            "2442baed6cb748c4b96137561feb186a",
            "9c203b110dee4dbbb3e38f7395e3bfcb"
          ]
        },
        "outputId": "134043f8-f3f1-495a-9fe0-aeffcc85e627",
        "id": "0mVfhJYsBnOq"
      },
      "execution_count": 109,
      "outputs": [
        {
          "output_type": "display_data",
          "data": {
            "text/plain": [
              "Computing transition probabilities:   0%|          | 0/9640 [00:00<?, ?it/s]"
            ],
            "application/vnd.jupyter.widget-view+json": {
              "version_major": 2,
              "version_minor": 0,
              "model_id": "3b4fd7bf6d594e8497ce70bc88bfbed0"
            }
          },
          "metadata": {}
        },
        {
          "output_type": "stream",
          "name": "stderr",
          "text": [
            "Generating walks (CPU: 1): 100%|██████████| 50/50 [05:31<00:00,  6.64s/it]\n"
          ]
        },
        {
          "output_type": "stream",
          "name": "stdout",
          "text": [
            "Time for {'dimensions': 512, 'walk_length': 16} is: 1012.0351518910002\n"
          ]
        },
        {
          "output_type": "execute_result",
          "data": {
            "text/plain": [
              "({(('dimensions', 512), ('walk_length', 16)): 1012.0351518910002},\n",
              " {(('dimensions', 512), ('walk_length', 16)): None})"
            ]
          },
          "metadata": {},
          "execution_count": 109
        }
      ]
    },
    {
      "cell_type": "code",
      "source": [],
      "metadata": {
        "id": "lyuMNSnqCBjs"
      },
      "execution_count": null,
      "outputs": []
    }
  ]
}